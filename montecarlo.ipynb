{
 "cells": [
  {
   "cell_type": "code",
   "execution_count": 6,
   "metadata": {},
   "outputs": [],
   "source": [
    "# 1. Coin Flip Example\n",
    "#Import required libraries :\n",
    "import math\n",
    "import random\n",
    "import numpy as np\n",
    "\n",
    "import scipy as sp\n",
    "import matplotlib\n",
    "import matplotlib.pyplot as plt\n",
    "# import PillowWriter\n",
    "from matplotlib.animation import PillowWriter\n",
    "\n",
    "from matplotlib.animation import FuncAnimation\n",
    "# import pymc as pm\n",
    "\n",
    "%matplotlib inline"
   ]
  },
  {
   "cell_type": "code",
   "execution_count": 18,
   "metadata": {},
   "outputs": [],
   "source": [
    "# Descrete Distributions\n",
    "# To get PMF from CDF : \n",
    "# P(X = k) = P(X <= k) - P(X <= k - 1)\n",
    "\n",
    "# E(x) = sum(x * P(X = x))\n",
    "# Var(x) = E(x^2) - E(x)^2\n",
    "\n",
    "def bernoulli_pmf(k, p):\n",
    "    # k is numer of successes\n",
    "    # p is probability of success\n",
    "    return p ** k * (1 - p) ** (1 - k)\n",
    "\n",
    "def bernoulli_cdf(k, p):\n",
    "    # sum of pmf from 0 to k\n",
    "    # k is inclusive\n",
    "    return sum([bernoulli_pmf(i, p) for i in range(k + 1)])\n",
    "\n",
    "def bernoulli_rv(p):\n",
    "    return random.choices([0, 1], weights=[1 - p, p])[0]\n",
    "\n",
    "\n",
    "def plot_bernoulli(p):\n",
    "    x = np.arange(0, 2, 1)\n",
    "    y = [bernoulli_pmf(i, p) for i in x]\n",
    "\n",
    "    plt.bar(x, y)\n",
    "    plt.title('Bernoulli PMF')\n",
    "    plt.xlabel('k')\n",
    "    plt.ylabel('P(X = k)')\n",
    "    plt.show()\n",
    "\n",
    "\n",
    "def binomial_pmf(k, n, p):\n",
    "    # k is number of successes\n",
    "    # n is number of trials\n",
    "    # p is probability of success\n",
    "    # n chosen k\n",
    "    n_choose_k = math.factorial(n) / (math.factorial(k) * math.factorial(n - k))\n",
    "\n",
    "    return n_choose_k * (p ** k) * ((1 - p) ** (n - k))\n",
    "\n",
    "def binomial_cdf(k, n, p):\n",
    "    # sum of pmf from 0 to k\n",
    "    # k is inclusive\n",
    "    # n is number of trials\n",
    "    # p is probability of success\n",
    "    return sum([binomial_pmf(i, n, p) for i in range(k + 1)])\n",
    "\n",
    "\n",
    "def binom_rv(n, p):\n",
    "    \n",
    "    return sum(random.choices([0, 1], weights=[1 - p, p], k=n))\n",
    "\n",
    "\n",
    "def plot_binomial(n, p):\n",
    "    x = np.arange(0, n + 1, 1)\n",
    "    y = [binomial_pmf(i, n, p) for i in x]\n",
    "\n",
    "    plt.bar(x, y)\n",
    "    plt.title('Binomial PMF')\n",
    "    plt.xlabel('k')\n",
    "    plt.ylabel('P(X = k)')\n",
    "    plt.show()\n",
    "\n",
    "def geometric_pmf(k, p):\n",
    "    # k is number of failures\n",
    "    # p is probability of success\n",
    "    return (1 - p) ** (k - 1) * p\n",
    "\n",
    "def geometric_cdf(k, p):\n",
    "    # sum of pmf from 0 to k\n",
    "    # k is inclusive\n",
    "    return sum([geometric_pmf(i, p) for i in range(k + 1)])\n",
    "\n",
    "def geometric_rv(p):\n",
    "    return random.choices(range(1, 1000), weights=[geometric_pmf(i, p) for i in range(1, 1000)])[0]\n",
    "\n",
    "def poisson_pmf(k, l):\n",
    "    # k is number of events\n",
    "    # l is rate of events\n",
    "    return (l ** k) * (math.e ** (-l)) / math.factorial(k)\n",
    "\n",
    "def poisson_cdf(k, l):\n",
    "    # sum of pmf from 0 to k\n",
    "    # k is inclusive\n",
    "    return sum([poisson_pmf(i, l) for i in range(k + 1)])\n",
    "\n",
    "def poisson_rv(l):\n",
    "    return random.choices(range(0, 1000), weights=[poisson_pmf(i, l) for i in range(0, 1000)])[0]\n",
    "\n"
   ]
  },
  {
   "cell_type": "code",
   "execution_count": 28,
   "metadata": {},
   "outputs": [],
   "source": [
    "# Continuous Distributions\n",
    "# To get PDF from CDF : f(x) = F'(x)\n",
    "\n",
    "# to get CDF : F(x) = integral(f(x) dx)\n",
    "\n",
    "# E(x) = integral(x * f(x) dx)\n",
    "# Var(x) = integral(x^2 * f(x) dx) - E(x)^2\n",
    "\n",
    "def uniform_pdf(x, a, b):\n",
    "    # x is a random variable\n",
    "    # a is lower bound\n",
    "    # b is upper bound\n",
    "    if a <= x <= b:\n",
    "        return 1 / (b - a)\n",
    "    else:\n",
    "        return 0\n",
    "\n",
    "def uniform_cdf(x, a, b):\n",
    "    # x is a random variable\n",
    "    # a is lower bound\n",
    "    # b is upper bound\n",
    "    if x < a:\n",
    "        return 0\n",
    "    elif x < b:\n",
    "        return (x - a) / (b - a)\n",
    "    else:\n",
    "        return 1\n",
    "\n",
    "def uniform_rv(a, b):\n",
    "    return random.uniform(a, b)\n",
    "\n",
    "def uniform_mean(a, b):\n",
    "    return (a + b) / 2\n",
    "\n",
    "def uniform_variance(a, b):\n",
    "    return (b - a) ** 2 / 12\n",
    "\n",
    "def plot_uniform(a, b):\n",
    "    x = np.linspace(a, b, 1000)\n",
    "    y = [uniform_pdf(i, a, b) for i in x]\n",
    "    plt.plot(x, y)\n",
    "    plt.show()\n",
    "\n",
    "\n",
    "def normal_pdf(x, mu, sigma):\n",
    "    # x is a random variable\n",
    "    # mu is mean\n",
    "    # sigma is standard deviation\n",
    "    return (1 / (sigma * math.sqrt(2 * math.pi))) * (math.e ** (-((x - mu) ** 2) / (2 * sigma ** 2)))\n",
    "\n",
    "def normal_cdf(x, mu, sigma):\n",
    "    # x is a random variable\n",
    "    # mu is mean\n",
    "    # sigma is standard deviation\n",
    "\n",
    "    # returned derivative of normal pdf with respect to x\n",
    "    return (1 + math.erf((x - mu) / (sigma * math.sqrt(2)))) / 2\n",
    "\n",
    "def normal_rv(mu, sigma):\n",
    "    return random.normalvariate(mu, sigma)\n",
    "\n",
    "def plot_normal(mu, sigma):\n",
    "    x = np.linspace(mu - 3 * sigma, mu + 3 * sigma, 1000)\n",
    "    y = [normal_pdf(i, mu, sigma) for i in x]\n",
    "    plt.plot(x, y)\n",
    "    plt.show()\n",
    "\n",
    "def plot_normal_cdf(mu, sigma):\n",
    "    x = np.linspace(mu - 3 * sigma, mu + 3 * sigma, 1000)\n",
    "    y = [normal_cdf(i, mu, sigma) for i in x]\n",
    "    plt.plot(x, y)\n",
    "    plt.show()\n"
   ]
  },
  {
   "cell_type": "code",
   "execution_count": null,
   "metadata": {},
   "outputs": [],
   "source": [
    "import matplotlib.pyplot as plt\n",
    "\n",
    "fig, ax = plt.subplots()\n",
    "\n",
    "fruits = ['apple', 'blueberry', 'cherry', 'orange']\n",
    "counts = [40, 100, 30, 55]\n",
    "bar_labels = ['red', 'blue', '_red', 'orange']\n",
    "bar_colors = ['tab:red', 'tab:blue', 'tab:red', 'tab:orange']\n",
    "\n",
    "ax.bar(fruits, counts, label=bar_labels, color=bar_colors)\n",
    "\n",
    "ax.set_ylabel('fruit supply')\n",
    "ax.set_title('Fruit supply by kind and color')\n",
    "ax.legend(title='Fruit color')\n",
    "\n",
    "plt.show()"
   ]
  },
  {
   "cell_type": "code",
   "execution_count": null,
   "metadata": {},
   "outputs": [],
   "source": [
    "\n",
    "ax, fig = plt.subplots(1, 1)\n",
    "x = np.linspace(0, 10, 20)\n",
    "y = [uniform_pdf(i, 1, 10) for i in x]\n"
   ]
  },
  {
   "cell_type": "code",
   "execution_count": null,
   "metadata": {},
   "outputs": [],
   "source": [
    "rvars_manual = [binom_rv(10, 0.5) for i in range(10)]\n",
    "\n",
    "rvars_manual"
   ]
  },
  {
   "cell_type": "code",
   "execution_count": null,
   "metadata": {},
   "outputs": [],
   "source": []
  },
  {
   "cell_type": "code",
   "execution_count": 31,
   "metadata": {},
   "outputs": [],
   "source": [
    "def coin_flip():\n",
    "    return random.randint(0,1)\n",
    "\n",
    "def roll_dice():\n",
    "    return random.randint(1,6)\n",
    "\n"
   ]
  },
  {
   "cell_type": "code",
   "execution_count": 32,
   "metadata": {},
   "outputs": [],
   "source": [
    "def coin_flip_experiment(n):\n",
    "\n",
    "    # Initial assumptions for the experiment\n",
    "    # 1. The coin is fair\n",
    "    # 2. The coin is tossed n times\n",
    "    # 3. The coin is tossed independently of each other\n",
    "    # 4. Bernoulli distribution is used to simulate the coin toss\n",
    "\n",
    "    events = sp.stats.bernoulli.rvs(p=0.5, size=n, random_state=42)\n",
    "    res = 0\n",
    "    prob = []\n",
    "    std_dev = []\n",
    "    variences = []\n",
    "\n",
    "    for inx, event in enumerate(events):\n",
    "        res = res + event\n",
    "        prob_ = res / (inx + 1)\n",
    "        prob.append(prob_)\n",
    "        variences.append(prob_ * (1 - prob_))\n",
    "        std_dev.append(np.sqrt(prob_ * (1 - prob_)))\n",
    "\n",
    "\n",
    "    # Plotting the results\n",
    "    fig, ax = plt.subplots()\n",
    "    ax.set_ylim(-0.2, 1)\n",
    "    ax.set_xlim(0, len(prob))\n",
    "    ax.set_xlabel('Number of simulations')\n",
    "    ax.set_ylabel('Probability')\n",
    "\n",
    "    line, = ax.plot([], [], lw=2, label='Probability / E(x)')\n",
    "    std_dev_line, = ax.plot([], [], lw=2, color='red', label='Standard Deviation')\n",
    "    variences_line, = ax.plot([], [], lw=2, color='green', label='Variance')\n",
    "\n",
    "    # Animation function\n",
    "    def prob_update(num):\n",
    "        x = range(0, num)\n",
    "        mean_ = prob[:num]\n",
    "        std_dev_ = std_dev[:num]\n",
    "        var_ = variences[:num]\n",
    "        line.set_data(x, mean_)\n",
    "        std_dev_line.set_data(x, std_dev_)\n",
    "        variences_line.set_data(x, var_)\n",
    "        return line, std_dev_line\n",
    "\n",
    "    ax.legend()\n",
    "    anim = FuncAnimation(fig, prob_update, frames=np.arange(1, len(prob)+1), repeat=False)\n",
    "    plt.xlabel('Number of coin flips')\n",
    "    plt.ylabel('Probability of getting heads')\n",
    "    plt.title('Coin Flip Simulation')\n",
    "    anim.save('coin_flip.gif', writer=PillowWriter(fps=10))\n",
    "\n",
    "    return events, prob, std_dev, variences\n",
    "\n",
    "def coin_flip_experiment_all(n, iters):\n",
    "\n",
    "    # Initial assumptions for the experiment\n",
    "    # 1. The coin is fair\n",
    "    # 2. The coin is tossed n times\n",
    "    # 3. The coin is tossed independently of each other\n",
    "    # 4. Bernoulli distribution is used to simulate the coin toss\n",
    "\n",
    "    def coin_experiment(nums):\n",
    "        events = sp.stats.bernoulli.rvs(p=0.5, size=nums)\n",
    "        res = 0\n",
    "        prob = []\n",
    "        std_dev = []\n",
    "        variences = []\n",
    "\n",
    "        for inx, event in enumerate(events):\n",
    "            res = res + event\n",
    "            prob_ = res / (inx + 1)\n",
    "            prob.append(prob_)\n",
    "            variences.append(prob_ * (1 - prob_))\n",
    "            std_dev.append(np.sqrt(prob_ * (1 - prob_)))\n",
    "        return prob\n",
    "\n",
    "    \n",
    "    # Animation function\n",
    "    def prob_update(num, experiments, lines):\n",
    "        for experiment, line in zip(experiments, lines):\n",
    "            x = range(0, num)\n",
    "            mean_ = experiment[:num]\n",
    "            line.set_data(x, mean_)\n",
    "        return lines\n",
    "\n",
    "\n",
    "    experiments = [coin_experiment(n) for i in range(iters)]\n",
    "\n",
    "    # Plotting the results\n",
    "    fig, ax = plt.subplots()\n",
    "    ax.set_ylim(0, 1)\n",
    "    ax.set_xlim(0, n)\n",
    "    ax.set_xlabel('Number of simulations')\n",
    "    ax.set_ylabel('Probability')\n",
    "\n",
    "    lines = [ax.plot([], [], lw=2)[0] for _ in experiments]\n",
    "\n",
    "    ax.legend()\n",
    "\n",
    "    anim = FuncAnimation(fig, prob_update, n, fargs=(experiments, lines), repeat=False)\n",
    "    plt.xlabel('Number of coin flips')\n",
    "    plt.ylabel('Probability of getting heads')\n",
    "    plt.title('Coin Flip Simulation')\n",
    "    anim.save('coin_flip.gif', writer=PillowWriter(fps=20))\n",
    "\n",
    "    return experiments\n",
    "\n",
    "\n",
    "\n",
    "\n"
   ]
  },
  {
   "cell_type": "code",
   "execution_count": null,
   "metadata": {},
   "outputs": [],
   "source": [
    "expts = coin_flip_experiment_all(3000, 100)"
   ]
  },
  {
   "cell_type": "code",
   "execution_count": null,
   "metadata": {},
   "outputs": [],
   "source": [
    "# MC simulation\n",
    "prob_list = []\n",
    "def monte_carlo(n):\n",
    "    # n = number of simulations\n",
    "    # x = number of heads\n",
    "    results = 0\n",
    "    for i in range(n):\n",
    "        flip_result = coin_flip()\n",
    "        # print(\"Coin result on experiment {}: {} \".format(i,flip_result))\n",
    "        results = results + flip_result \n",
    "        # print(\"Total number of heads: {}\".format(results))      \n",
    "\n",
    "        prob_value = results/ (i+1)\n",
    "        # print(\"Probability of heads: {}\".format(prob_value))\n",
    "        prob_list.append(prob_value)\n",
    "\n",
    "        # plot the results\n",
    "        plt.axhline(y=0.5, color='red', linestyle='dashed')\n",
    "        plt.xlabel('Number of simulations')\n",
    "        plt.ylabel('Probability')\n",
    "        plt.title('Monte Carlo Simulation')\n",
    "        plt.plot(prob_list)\n",
    "    return prob_value/n\n",
    "    "
   ]
  },
  {
   "attachments": {},
   "cell_type": "markdown",
   "metadata": {},
   "source": [
    "\"\"\"Algos\n",
    "Given a set of coin flip data, you can estimate the distribution parameters (in this case, the probability of getting heads)\n",
    " using maximum likelihood estimation (MLE). MLE is a method for estimating the parameters of a statistical model given a set of data.\"\"\"\n",
    "\n",
    "\n",
    "\n",
    " Method of Moments (MOM): This method estimates the parameters of a distribution by equating the sample moments (i.e., mean, variance, skewness, etc.) to the theoretical moments of the distribution.\n",
    "\n",
    "Maximum a posteriori estimation (MAP): This method is similar to MLE, but it incorporates prior information about the parameters into the estimation process. It uses Bayes' theorem to find the parameter values that maximize the posterior probability distribution.\n",
    "\n",
    "Bayesian estimation: This method is based on Bayesian statistics and uses prior information about the parameters in combination with the data to estimate the parameters. It allows for the calculation of the probability distribution of the parameters rather than a single point estimate."
   ]
  },
  {
   "cell_type": "code",
   "execution_count": 82,
   "metadata": {},
   "outputs": [
    {
     "data": {
      "image/png": "[encoded data removed]",
      "text/plain": [
       "<Figure size 640x480 with 1 Axes>"
      ]
     },
     "metadata": {},
     "output_type": "display_data"
    }
   ],
   "source": [
    "coin_data_5, p, st, v  = coin_flip_experiment(10)\n"
   ]
  },
  {
   "cell_type": "code",
   "execution_count": 83,
   "metadata": {},
   "outputs": [
    {
     "name": "stdout",
     "output_type": "stream",
     "text": [
      "0.0009765625\n"
     ]
    }
   ],
   "source": [
    "n = len(coin_data_5)\n",
    "k = sum(coin_data_5)\n",
    "\n",
    "def likelihood(p):\n",
    "    return p**k * (1-p)**(n-k)\n",
    "\n",
    "\n",
    "print(likelihood(0.5))\n",
    "\n",
    "prior_p = 0.5\n",
    "\n",
    "result = sp.optimize.minimize(lambda p: -likelihood(p), prior_p, method='Nelder-Mead')"
   ]
  },
  {
   "cell_type": "code",
   "execution_count": 86,
   "metadata": {},
   "outputs": [
    {
     "data": {
      "text/plain": [
       " final_simplex: (array([[0.6       ],\n",
       "       [0.59990234]]), array([-0.00119439, -0.00119439]))\n",
       "           fun: -0.0011943936\n",
       "       message: 'Optimization terminated successfully.'\n",
       "          nfev: 22\n",
       "           nit: 11\n",
       "        status: 0\n",
       "       success: True\n",
       "             x: array([0.6])"
      ]
     },
     "execution_count": 86,
     "metadata": {},
     "output_type": "execute_result"
    }
   ],
   "source": [
    "result"
   ]
  },
  {
   "cell_type": "code",
   "execution_count": null,
   "metadata": {},
   "outputs": [],
   "source": []
  },
  {
   "cell_type": "code",
   "execution_count": null,
   "metadata": {},
   "outputs": [],
   "source": []
  },
  {
   "cell_type": "code",
   "execution_count": 67,
   "metadata": {},
   "outputs": [
    {
     "name": "stdout",
     "output_type": "stream",
     "text": [
      "Estimated parameter p(mean): 0.47001953124999996\n",
      "Estimated (std): 0.04991003621452606\n",
      "Estimated parameter std  :  final_simplex: (array([[0.47001953],\n",
      "       [0.46992187]]), array([-9.44540052e-31, -9.44538968e-31]))\n",
      "           fun: -9.44540052483785e-31\n",
      "       message: 'Optimization terminated successfully.'\n",
      "          nfev: 20\n",
      "           nit: 10\n",
      "        status: 0\n",
      "       success: True\n",
      "             x: array([0.47001953])\n"
     ]
    }
   ],
   "source": [
    "p_est = result.x[0]\n",
    "print(\"Estimated parameter p(mean):\", p_est)\n",
    "print(\"Estimated (std):\", np.sqrt(p_est*(1-p_est)/n))\n",
    "print(\"Estimated parameter std  :\", result)"
   ]
  },
  {
   "cell_type": "code",
   "execution_count": 68,
   "metadata": {},
   "outputs": [],
   "source": [
    "observed = [k, n-k]\n",
    "expected = [n*p_est, n*(1-p_est)]"
   ]
  },
  {
   "cell_type": "code",
   "execution_count": 45,
   "metadata": {},
   "outputs": [
    {
     "name": "stdout",
     "output_type": "stream",
     "text": [
      "Chi-squared test statistic: 2.9908322978911693e-06\n",
      "p-value: 0.9986201372972393\n"
     ]
    }
   ],
   "source": [
    "# Chi-squared test\n",
    "chisq, p_value = sp.stats.chisquare(observed, expected)\n",
    "print(\"Chi-squared test statistic:\", chisq)\n",
    "print(\"p-value:\", p_value)\n"
   ]
  },
  {
   "cell_type": "code",
   "execution_count": 72,
   "metadata": {},
   "outputs": [
    {
     "ename": "TypeError",
     "evalue": "'alternative' is an invalid keyword argument for print()",
     "output_type": "error",
     "traceback": [
      "\u001b[1;31m---------------------------------------------------------------------------\u001b[0m",
      "\u001b[1;31mTypeError\u001b[0m                                 Traceback (most recent call last)",
      "\u001b[1;32mc:\\Users\\dmamed01\\projects\\Algos-Euler\\montecarlo.ipynb Cell 18\u001b[0m in \u001b[0;36m<cell line: 6>\u001b[1;34m()\u001b[0m\n\u001b[0;32m      <a href='vscode-notebook-cell:/c%3A/Users/dmamed01/projects/Algos-Euler/montecarlo.ipynb#X25sZmlsZQ%3D%3D?line=0'>1</a>\u001b[0m \u001b[39m#Kolmogorov-Smirnov test for bernoulli distribution\u001b[39;00m\n\u001b[0;32m      <a href='vscode-notebook-cell:/c%3A/Users/dmamed01/projects/Algos-Euler/montecarlo.ipynb#X25sZmlsZQ%3D%3D?line=2'>3</a>\u001b[0m ks, p \u001b[39m=\u001b[39m sp\u001b[39m.\u001b[39mstats\u001b[39m.\u001b[39mkstest(coin_data_5, sp\u001b[39m.\u001b[39mstats\u001b[39m.\u001b[39mbernoulli\u001b[39m.\u001b[39mpmf,  args\u001b[39m=\u001b[39m(p_est,))\n\u001b[1;32m----> <a href='vscode-notebook-cell:/c%3A/Users/dmamed01/projects/Algos-Euler/montecarlo.ipynb#X25sZmlsZQ%3D%3D?line=5'>6</a>\u001b[0m \u001b[39mprint\u001b[39;49m(\u001b[39m\"\u001b[39;49m\u001b[39mKS test statistic:\u001b[39;49m\u001b[39m\"\u001b[39;49m, ks, alternative\u001b[39m=\u001b[39;49m\u001b[39m\"\u001b[39;49m\u001b[39mtwo-sided\u001b[39;49m\u001b[39m\"\u001b[39;49m)\n\u001b[0;32m      <a href='vscode-notebook-cell:/c%3A/Users/dmamed01/projects/Algos-Euler/montecarlo.ipynb#X25sZmlsZQ%3D%3D?line=6'>7</a>\u001b[0m \u001b[39mprint\u001b[39m(\u001b[39m\"\u001b[39m\u001b[39mp-value:\u001b[39m\u001b[39m\"\u001b[39m, p)\n",
      "\u001b[1;31mTypeError\u001b[0m: 'alternative' is an invalid keyword argument for print()"
     ]
    }
   ],
   "source": [
    "#Kolmogorov-Smirnov test for bernoulli distribution\n",
    "\n",
    "ks, p = sp.stats.kstest(coin_data_5, sp.stats.bernoulli.cdf,  args=(p_est,), alternative='less')\n",
    "\n",
    "\n",
    "print(\"KS test statistic:\", ks, alternative=\"two-sided\")\n",
    "print(\"p-value:\", p)\n"
   ]
  },
  {
   "cell_type": "code",
   "execution_count": null,
   "metadata": {},
   "outputs": [],
   "source": []
  },
  {
   "cell_type": "code",
   "execution_count": null,
   "metadata": {},
   "outputs": [],
   "source": []
  },
  {
   "cell_type": "code",
   "execution_count": null,
   "metadata": {},
   "outputs": [],
   "source": [
    "def poisson_pmf(k, lam):\n",
    "    # where k is the number of events\n",
    "    \n",
    "    return (lam ** k) * (math.e ** (-lam)) / math.factorial(k)\n",
    "\n",
    "\n",
    "print(\"Poisson PMF: {}\".format(poisson_pmf(1, 0.000008)))\n"
   ]
  },
  {
   "cell_type": "code",
   "execution_count": null,
   "metadata": {},
   "outputs": [],
   "source": [
    "# average rate of button breakage\n",
    "lam = 1/1000\n",
    "\n",
    "# create a Poisson distribution object with the estimated lambda\n",
    "poisson_dist = sp.stats.poisson(lam)\n",
    "\n",
    "# calculate the probability mass function for a specific number of failures\n",
    "k = 5\n",
    "poisson_dist.pmf(k)\n",
    "\n",
    "# generate random variables from the poisson distribution\n",
    "poisson_dist.rvs(size=10)"
   ]
  },
  {
   "cell_type": "code",
   "execution_count": null,
   "metadata": {},
   "outputs": [],
   "source": [
    "X_fails = [0, 1, 2, 3, 4, 5, 6, 7, 8, 9]\n",
    "lbda = 1/100"
   ]
  },
  {
   "cell_type": "code",
   "execution_count": null,
   "metadata": {},
   "outputs": [],
   "source": [
    "poisson_pd = sp.stats.poisson.pmf(X_fails, lbda)\n"
   ]
  },
  {
   "cell_type": "code",
   "execution_count": null,
   "metadata": {},
   "outputs": [],
   "source": [
    "for i in poisson_pd:\n",
    "    print(\"{:.8f}\".format(i))"
   ]
  },
  {
   "cell_type": "code",
   "execution_count": null,
   "metadata": {},
   "outputs": [],
   "source": [
    "plt.hist(X_fails, bins=[1,2,3,4, 5], density=True)\n",
    "plt.show()\n"
   ]
  },
  {
   "cell_type": "code",
   "execution_count": null,
   "metadata": {},
   "outputs": [],
   "source": []
  },
  {
   "cell_type": "code",
   "execution_count": null,
   "metadata": {},
   "outputs": [],
   "source": [
    "print(dice_experiment())"
   ]
  },
  {
   "cell_type": "code",
   "execution_count": null,
   "metadata": {},
   "outputs": [],
   "source": [
    "# Gerald -> ask about Internal data\n",
    "\n",
    "# Intervals instead of events \n",
    "\n",
    "# then assumption : all valves are same and collectors same\n",
    "\n",
    "# All collectors overlaped "
   ]
  },
  {
   "cell_type": "code",
   "execution_count": null,
   "metadata": {},
   "outputs": [],
   "source": [
    "class Valve:\n",
    "    def __init__(self, name, collector):\n",
    "        self.name = name\n",
    "        self.collector = collector\n",
    "    def __repr__(self):\n",
    "        return self.name\n",
    "\n",
    "    @staticmethod\n",
    "    def get_failure(dist='possion'):\n",
    "        if dist == 'possion':\n",
    "            return sp.stats.poisson.rvs(mu=600, loc=400)\n",
    "\n",
    "\n",
    "class Collector:\n",
    "    def __init__(self, name, valves):\n",
    "        self.name = name\n",
    "        self.valves = valves\n",
    "\n",
    "    def __repr__(self):\n",
    "        return self.name\n"
   ]
  },
  {
   "cell_type": "code",
   "execution_count": null,
   "metadata": {},
   "outputs": [],
   "source": [
    "random.randint(30,100)"
   ]
  },
  {
   "cell_type": "code",
   "execution_count": null,
   "metadata": {},
   "outputs": [],
   "source": [
    "valve_one = Valve('Valve 1', 'Collector 1')\n"
   ]
  },
  {
   "cell_type": "code",
   "execution_count": null,
   "metadata": {},
   "outputs": [],
   "source": [
    "v_one_failures = []\n",
    "v_two_failures = []\n",
    "v_three_failures = []\n",
    "v_four_failures = []\n",
    "f_count = 0"
   ]
  },
  {
   "cell_type": "code",
   "execution_count": null,
   "metadata": {},
   "outputs": [],
   "source": [
    "\n",
    "while f_count < 10000:\n",
    "\n",
    "    valve_one_f = valve_one.get_failure()\n",
    "    valve_two_f = valve_one.get_failure()\n",
    "    valve_three_f = valve_one.get_failure()\n",
    "    valve_four_f = valve_one.get_failure()\n",
    "\n",
    "    f_count += min(valve_one_f, valve_two_f, valve_three_f, valve_four_f)\n",
    "    print(f_count)\n",
    "    \n",
    "    one_before_f = np.zeros(f-1) \n",
    "    one_wait_f = np.ones(random.randint(50,200))\n",
    "\n",
    "    v_one_ts = np.concatenate((one_before_f, one_wait_f))\n",
    "    \n",
    "    v_one_failures = np.concatenate((v_one_ts, v_one_failures))"
   ]
  },
  {
   "cell_type": "code",
   "execution_count": null,
   "metadata": {},
   "outputs": [],
   "source": [
    "sp.stats.poisson.pmf(1, 1)"
   ]
  },
  {
   "cell_type": "code",
   "execution_count": null,
   "metadata": {},
   "outputs": [],
   "source": [
    "poss_rvs = sp.stats.poisson.rvs(mu=500, loc=500, size=5000)\n",
    "\n",
    "beta_dist = sp.stats.beta(a=0.7, b=0.3, loc=0, scale=100)"
   ]
  },
  {
   "cell_type": "code",
   "execution_count": null,
   "metadata": {},
   "outputs": [],
   "source": [
    "xx = beta_dist.rvs(size=10)"
   ]
  },
  {
   "cell_type": "code",
   "execution_count": null,
   "metadata": {},
   "outputs": [],
   "source": [
    "xx"
   ]
  },
  {
   "cell_type": "code",
   "execution_count": null,
   "metadata": {},
   "outputs": [],
   "source": [
    "beta_dist.pdf(90)\n"
   ]
  },
  {
   "cell_type": "code",
   "execution_count": null,
   "metadata": {},
   "outputs": [],
   "source": []
  },
  {
   "cell_type": "code",
   "execution_count": null,
   "metadata": {},
   "outputs": [],
   "source": [
    "plt.hist(poss_rvs, bins='auto', density=True)\n",
    "plt.show()"
   ]
  },
  {
   "cell_type": "code",
   "execution_count": null,
   "metadata": {},
   "outputs": [],
   "source": [
    "one_half = np.zeros(f-1) \n",
    "second_half = np.ones(31)\n",
    "\n",
    "valve_half = np.zeros(f2-1)\n",
    "valve_half2 = np.ones(31)\n",
    "\n",
    "xs = np.concatenate((one_half, second_half))\n",
    "xss = np.concatenate((valve_half, valve_half2))\n",
    "\n",
    "con_ = np.concatenate((xs, xss))"
   ]
  },
  {
   "cell_type": "code",
   "execution_count": null,
   "metadata": {},
   "outputs": [],
   "source": [
    "fig,ax = plt.subplots(figsize=(10,4), sharex=True)\n",
    "# title\n",
    "fig.suptitle(\"Inactive Pulses for Machine ID - 83 with 24 valves\")\n",
    "ax.set_ylim([0, 8])\n",
    "ax.set_ylabel(\"Failed Pulse\", color=\"black\", fontsize=10)\n",
    "ax.plot(v_one_failures, color='green')\n"
   ]
  },
  {
   "cell_type": "code",
   "execution_count": null,
   "metadata": {},
   "outputs": [],
   "source": [
    "o = np.ones(10)\n",
    "b = np.ones(5)"
   ]
  },
  {
   "cell_type": "code",
   "execution_count": null,
   "metadata": {},
   "outputs": [],
   "source": [
    "import numpy as np\n",
    "import matplotlib.pyplot as plt\n",
    "\n",
    "def bathtub_pdf(t, λ1, λ2, λ3, t1, t2):\n",
    "    if t < t1:\n",
    "        return λ1*np.exp(-λ1*t)\n",
    "    elif t1 <= t <= t2:\n",
    "        return λ2\n",
    "    elif t > t2:\n",
    "        return λ3*np.exp(-λ3*t)\n",
    "    else:\n",
    "        return None\n",
    "\n",
    "# Example usage:\n",
    "t = np.linspace(0, 100, 100)\n",
    "λ1, λ2, λ3 = 0.1, 0.01, 0.05\n",
    "t1, t2 = 5, 15\n",
    "y = [bathtub_pdf(x, λ1, λ2, λ3, t1, t2) for x in t]\n",
    "\n",
    "plt.plot(t, y)\n",
    "plt.title('Bathtub Failure Rate for Machine ID - 83 scaled down')\n",
    "plt.xlabel('Time ~ Pulse ')\n",
    "plt.ylabel('Failure Rate (λ)')\n",
    "plt.show()\n"
   ]
  },
  {
   "cell_type": "code",
   "execution_count": null,
   "metadata": {},
   "outputs": [],
   "source": [
    "np.linspace(0, 10)"
   ]
  },
  {
   "cell_type": "code",
   "execution_count": null,
   "metadata": {},
   "outputs": [],
   "source": []
  }
 ],
 "metadata": {
  "kernelspec": {
   "display_name": "iaf-eng-conda",
   "language": "python",
   "name": "python3"
  },
  "language_info": {
   "codemirror_mode": {
    "name": "ipython",
    "version": 3
   },
   "file_extension": ".py",
   "mimetype": "text/x-python",
   "name": "python",
   "nbconvert_exporter": "python",
   "pygments_lexer": "ipython3",
   "version": "3.10.6"
  },
  "orig_nbformat": 4,
  "vscode": {
   "interpreter": {
    "hash": "5f9172594d67dd9a5ad8a93b1f2f4609601f5d859b184cf54b62cb96182131fc"
   }
  }
 },
 "nbformat": 4,
 "nbformat_minor": 2
}
