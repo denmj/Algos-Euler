{
 "cells": [
  {
   "cell_type": "code",
   "execution_count": 269,
   "metadata": {},
   "outputs": [],
   "source": [
    "# 1. Coin Flip Example\n",
    "#Import required libraries :\n",
    "\n",
    "import random\n",
    "import numpy as np\n",
    "\n",
    "import scipy as sp\n",
    "\n",
    "import matplotlib.pyplot as plt\n",
    "import pymc as pm\n"
   ]
  },
  {
   "cell_type": "code",
   "execution_count": null,
   "metadata": {},
   "outputs": [],
   "source": []
  },
  {
   "cell_type": "code",
   "execution_count": 310,
   "metadata": {},
   "outputs": [],
   "source": [
    "def coin_flip():\n",
    "    return random.randint(0,1)\n",
    "\n",
    "def roll_dice():\n",
    "    return random.randint(1,6)\n",
    "\n"
   ]
  },
  {
   "cell_type": "code",
   "execution_count": 315,
   "metadata": {},
   "outputs": [
    {
     "data": {
      "text/plain": [
       "array([1, 0, 0, 0, 0, 1, 1, 1, 0, 0], dtype=int64)"
      ]
     },
     "execution_count": 315,
     "metadata": {},
     "output_type": "execute_result"
    }
   ],
   "source": [
    "# coin flip 10 times\n",
    "\n",
    "sp.stats.bernoulli.rvs(0.5, size=10)"
   ]
  },
  {
   "cell_type": "code",
   "execution_count": 316,
   "metadata": {},
   "outputs": [],
   "source": [
    "def coin_flip_experiment(n):\n",
    "    # probability of getting heads\n",
    "\n",
    "    events = sp.stats.bernoulli.rvs(p=0.5, size=n)\n",
    "    res = 0\n",
    "    prob = []\n",
    "    for inx, event in enumerate(events):\n",
    "        res = res + event\n",
    "        prob_ = res / (inx + 1)\n",
    "        prob.append(prob_)\n",
    "\n",
    "        plt.axhline(y=0.5, color='red', linestyle='dashed')\n",
    "        plt.xlabel('Number of simulations')\n",
    "        plt.ylabel('Probability')\n",
    "        plt.title('Monte Carlo Simulation')\n",
    "        plt.plot(prob)"
   ]
  },
  {
   "cell_type": "code",
   "execution_count": 5,
   "metadata": {},
   "outputs": [],
   "source": [
    "# MC simulation\n",
    "prob_list = []\n",
    "def monte_carlo(n):\n",
    "    # n = number of simulations\n",
    "    # x = number of heads\n",
    "    results = 0\n",
    "    for i in range(n):\n",
    "        flip_result = coin_flip()\n",
    "        # print(\"Coin result on experiment {}: {} \".format(i,flip_result))\n",
    "        results = results + flip_result \n",
    "        # print(\"Total number of heads: {}\".format(results))      \n",
    "\n",
    "        prob_value = results/ (i+1)\n",
    "        # print(\"Probability of heads: {}\".format(prob_value))\n",
    "        prob_list.append(prob_value)\n",
    "\n",
    "        # plot the results\n",
    "        plt.axhline(y=0.5, color='red', linestyle='dashed')\n",
    "        plt.xlabel('Number of simulations')\n",
    "        plt.ylabel('Probability')\n",
    "        plt.title('Monte Carlo Simulation')\n",
    "        plt.plot(prob_list)\n",
    "    return prob_value/n\n",
    "    "
   ]
  },
  {
   "cell_type": "code",
   "execution_count": 6,
   "metadata": {},
   "outputs": [
    {
     "data": {
      "image/png": "[encoded data removed]",
      "text/plain": [
       "<Figure size 640x480 with 1 Axes>"
      ]
     },
     "metadata": {},
     "output_type": "display_data"
    }
   ],
   "source": [
    "coin_flip_experiment(5000)\n"
   ]
  },
  {
   "cell_type": "code",
   "execution_count": 6,
   "metadata": {},
   "outputs": [],
   "source": [
    "def dice_experiment():\n",
    "    die_one = roll_dice()\n",
    "    die_two = roll_dice()\n",
    "    return [die_one, die_two]"
   ]
  },
  {
   "cell_type": "code",
   "execution_count": 7,
   "metadata": {},
   "outputs": [
    {
     "name": "stdout",
     "output_type": "stream",
     "text": [
      "[4, 1]\n"
     ]
    }
   ],
   "source": [
    "print(dice_experiment())"
   ]
  },
  {
   "cell_type": "code",
   "execution_count": null,
   "metadata": {},
   "outputs": [],
   "source": [
    "# Gerald -> ask about Internal data\n",
    "\n",
    "# Intervals instead of events \n",
    "\n",
    "# then assumption : all valves are same and collectors same\n",
    "\n",
    "# All collectors overlaped "
   ]
  },
  {
   "cell_type": "code",
   "execution_count": 160,
   "metadata": {},
   "outputs": [],
   "source": [
    "class Valve:\n",
    "    def __init__(self, name, collector):\n",
    "        self.name = name\n",
    "        self.collector = collector\n",
    "    def __repr__(self):\n",
    "        return self.name\n",
    "\n",
    "    @staticmethod\n",
    "    def get_failure(dist='possion'):\n",
    "        if dist == 'possion':\n",
    "            return sp.stats.poisson.rvs(mu=600, loc=400)\n",
    "\n",
    "\n",
    "class Collector:\n",
    "    def __init__(self, name, valves):\n",
    "        self.name = name\n",
    "        self.valves = valves\n",
    "\n",
    "    def __repr__(self):\n",
    "        return self.name\n"
   ]
  },
  {
   "cell_type": "code",
   "execution_count": 161,
   "metadata": {},
   "outputs": [
    {
     "data": {
      "text/plain": [
       "73"
      ]
     },
     "execution_count": 161,
     "metadata": {},
     "output_type": "execute_result"
    }
   ],
   "source": [
    "random.randint(30,100)"
   ]
  },
  {
   "cell_type": "code",
   "execution_count": 255,
   "metadata": {},
   "outputs": [],
   "source": [
    "valve_one = Valve('Valve 1', 'Collector 1')\n"
   ]
  },
  {
   "cell_type": "code",
   "execution_count": 256,
   "metadata": {},
   "outputs": [],
   "source": [
    "v_one_failures = []\n",
    "v_two_failures = []\n",
    "v_three_failures = []\n",
    "v_four_failures = []\n",
    "f_count = 0"
   ]
  },
  {
   "cell_type": "code",
   "execution_count": 257,
   "metadata": {},
   "outputs": [
    {
     "name": "stdout",
     "output_type": "stream",
     "text": [
      "966\n",
      "1960\n",
      "2899\n",
      "3877\n",
      "4875\n",
      "5858\n",
      "6855\n",
      "7844\n",
      "8796\n",
      "9771\n",
      "10724\n"
     ]
    }
   ],
   "source": [
    "\n",
    "while f_count < 10000:\n",
    "\n",
    "    valve_one_f = valve_one.get_failure()\n",
    "    valve_two_f = valve_one.get_failure()\n",
    "    valve_three_f = valve_one.get_failure()\n",
    "    valve_four_f = valve_one.get_failure()\n",
    "\n",
    "    f_count += min(valve_one_f, valve_two_f, valve_three_f, valve_four_f)\n",
    "    print(f_count)\n",
    "    \n",
    "    one_before_f = np.zeros(f-1) \n",
    "    one_wait_f = np.ones(random.randint(50,200))\n",
    "\n",
    "    v_one_ts = np.concatenate((one_before_f, one_wait_f))\n",
    "    \n",
    "    v_one_failures = np.concatenate((v_one_ts, v_one_failures))"
   ]
  },
  {
   "cell_type": "code",
   "execution_count": 290,
   "metadata": {},
   "outputs": [
    {
     "data": {
      "text/plain": [
       "0.36787944117144233"
      ]
     },
     "execution_count": 290,
     "metadata": {},
     "output_type": "execute_result"
    }
   ],
   "source": [
    "sp.stats.poisson.pmf(1, 1)"
   ]
  },
  {
   "cell_type": "code",
   "execution_count": 252,
   "metadata": {},
   "outputs": [],
   "source": [
    "poss_rvs = sp.stats.poisson.rvs(mu=500, loc=500, size=5000)\n",
    "\n",
    "beta_dist = sp.stats.beta(a=0.7, b=0.3, loc=0, scale=100)"
   ]
  },
  {
   "cell_type": "code",
   "execution_count": 253,
   "metadata": {},
   "outputs": [],
   "source": [
    "xx = beta_dist.rvs(size=10)"
   ]
  },
  {
   "cell_type": "code",
   "execution_count": 254,
   "metadata": {},
   "outputs": [
    {
     "data": {
      "text/plain": [
       "array([62.24250849, 99.59050868, 99.9993372 , 76.05178449, 98.91809208,\n",
       "       96.45916403, 97.09124664, 59.97611683, 94.80691935, 65.04972237])"
      ]
     },
     "execution_count": 254,
     "metadata": {},
     "output_type": "execute_result"
    }
   ],
   "source": [
    "xx"
   ]
  },
  {
   "cell_type": "code",
   "execution_count": 251,
   "metadata": {},
   "outputs": [
    {
     "data": {
      "text/plain": [
       "0.007896020013656035"
      ]
     },
     "execution_count": 251,
     "metadata": {},
     "output_type": "execute_result"
    }
   ],
   "source": [
    "beta_dist.pdf(90)\n"
   ]
  },
  {
   "cell_type": "code",
   "execution_count": null,
   "metadata": {},
   "outputs": [],
   "source": []
  },
  {
   "cell_type": "code",
   "execution_count": 188,
   "metadata": {},
   "outputs": [
    {
     "data": {
      "image/png": "[encoded data removed]",
      "text/plain": [
       "<Figure size 640x480 with 1 Axes>"
      ]
     },
     "metadata": {},
     "output_type": "display_data"
    }
   ],
   "source": [
    "plt.hist(poss_rvs, bins='auto', density=True)\n",
    "plt.show()"
   ]
  },
  {
   "cell_type": "code",
   "execution_count": 115,
   "metadata": {},
   "outputs": [],
   "source": [
    "one_half = np.zeros(f-1) \n",
    "second_half = np.ones(31)\n",
    "\n",
    "valve_half = np.zeros(f2-1)\n",
    "valve_half2 = np.ones(31)\n",
    "\n",
    "xs = np.concatenate((one_half, second_half))\n",
    "xss = np.concatenate((valve_half, valve_half2))\n",
    "\n",
    "con_ = np.concatenate((xs, xss))"
   ]
  },
  {
   "cell_type": "code",
   "execution_count": 237,
   "metadata": {},
   "outputs": [
    {
     "data": {
      "text/plain": [
       "[<matplotlib.lines.Line2D at 0x13e65682950>]"
      ]
     },
     "execution_count": 237,
     "metadata": {},
     "output_type": "execute_result"
    },
    {
     "data": {
      "image/png": "[encoded data removed]",
      "text/plain": [
       "<Figure size 1000x400 with 1 Axes>"
      ]
     },
     "metadata": {},
     "output_type": "display_data"
    }
   ],
   "source": [
    "fig,ax = plt.subplots(figsize=(10,4), sharex=True)\n",
    "# title\n",
    "fig.suptitle(\"Inactive Pulses for Machine ID - 83 with 24 valves\")\n",
    "ax.set_ylim([0, 8])\n",
    "ax.set_ylabel(\"Failed Pulse\", color=\"black\", fontsize=10)\n",
    "ax.plot(v_one_failures, color='green')\n"
   ]
  },
  {
   "cell_type": "code",
   "execution_count": 180,
   "metadata": {},
   "outputs": [],
   "source": [
    "o = np.ones(10)\n",
    "b = np.ones(5)"
   ]
  },
  {
   "cell_type": "code",
   "execution_count": 309,
   "metadata": {},
   "outputs": [
    {
     "data": {
      "image/png": "[encoded data removed]",
      "text/plain": [
       "<Figure size 640x480 with 1 Axes>"
      ]
     },
     "metadata": {},
     "output_type": "display_data"
    }
   ],
   "source": [
    "import numpy as np\n",
    "import matplotlib.pyplot as plt\n",
    "\n",
    "def bathtub_pdf(t, λ1, λ2, λ3, t1, t2):\n",
    "    if t < t1:\n",
    "        return λ1*np.exp(-λ1*t)\n",
    "    elif t1 <= t <= t2:\n",
    "        return λ2\n",
    "    elif t > t2:\n",
    "        return λ3*np.exp(-λ3*t)\n",
    "    else:\n",
    "        return None\n",
    "\n",
    "# Example usage:\n",
    "t = np.linspace(0, 100, 100)\n",
    "λ1, λ2, λ3 = 0.1, 0.01, 0.05\n",
    "t1, t2 = 5, 15\n",
    "y = [bathtub_pdf(x, λ1, λ2, λ3, t1, t2) for x in t]\n",
    "\n",
    "plt.plot(t, y)\n",
    "plt.title('Bathtub Failure Rate for Machine ID - 83 scaled down')\n",
    "plt.xlabel('Time ~ Pulse ')\n",
    "plt.ylabel('Failure Rate (λ)')\n",
    "plt.show()\n"
   ]
  },
  {
   "cell_type": "code",
   "execution_count": 307,
   "metadata": {},
   "outputs": [
    {
     "data": {
      "text/plain": [
       "array([ 0.        ,  0.20408163,  0.40816327,  0.6122449 ,  0.81632653,\n",
       "        1.02040816,  1.2244898 ,  1.42857143,  1.63265306,  1.83673469,\n",
       "        2.04081633,  2.24489796,  2.44897959,  2.65306122,  2.85714286,\n",
       "        3.06122449,  3.26530612,  3.46938776,  3.67346939,  3.87755102,\n",
       "        4.08163265,  4.28571429,  4.48979592,  4.69387755,  4.89795918,\n",
       "        5.10204082,  5.30612245,  5.51020408,  5.71428571,  5.91836735,\n",
       "        6.12244898,  6.32653061,  6.53061224,  6.73469388,  6.93877551,\n",
       "        7.14285714,  7.34693878,  7.55102041,  7.75510204,  7.95918367,\n",
       "        8.16326531,  8.36734694,  8.57142857,  8.7755102 ,  8.97959184,\n",
       "        9.18367347,  9.3877551 ,  9.59183673,  9.79591837, 10.        ])"
      ]
     },
     "execution_count": 307,
     "metadata": {},
     "output_type": "execute_result"
    }
   ],
   "source": [
    "np.linspace(0, 10)"
   ]
  },
  {
   "cell_type": "code",
   "execution_count": null,
   "metadata": {},
   "outputs": [],
   "source": []
  }
 ],
 "metadata": {
  "kernelspec": {
   "display_name": "algo-euler-conda",
   "language": "python",
   "name": "python3"
  },
  "language_info": {
   "codemirror_mode": {
    "name": "ipython",
    "version": 3
   },
   "file_extension": ".py",
   "mimetype": "text/x-python",
   "name": "python",
   "nbconvert_exporter": "python",
   "pygments_lexer": "ipython3",
   "version": "3.10.6"
  },
  "orig_nbformat": 4,
  "vscode": {
   "interpreter": {
    "hash": "0b88bcc65c7ffe67118f9d990b2e06d59595753bc42a88d4deb475c1ea61db92"
   }
  }
 },
 "nbformat": 4,
 "nbformat_minor": 2
}
