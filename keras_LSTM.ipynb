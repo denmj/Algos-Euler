{
  "nbformat": 4,
  "nbformat_minor": 0,
  "metadata": {
    "colab": {
      "name": "keras_LSTM.ipynb",
      "provenance": [],
      "collapsed_sections": [],
      "authorship_tag": "ABX9TyP5DbZyyFOtxS4UlvuHHXFX",
      "include_colab_link": true
    },
    "kernelspec": {
      "name": "python3",
      "display_name": "Python 3"
    },
    "language_info": {
      "name": "python"
    }
  },
  "cells": [
    {
      "cell_type": "markdown",
      "metadata": {
        "id": "view-in-github",
        "colab_type": "text"
      },
      "source": [
        "<a href=\"https://colab.research.google.com/github/denmj/Algos-Euler/blob/master/keras_LSTM.ipynb\" target=\"_parent\"><img src=\"https://colab.research.google.com/assets/colab-badge.svg\" alt=\"Open In Colab\"/></a>"
      ]
    },
    {
      "cell_type": "code",
      "metadata": {
        "id": "MbbSwF6_tp3c"
      },
      "source": [
        "import pandas as pd\n",
        "from matplotlib import pyplot\n",
        "\n",
        "from numpy import loadtxt\n",
        "import tensorflow as tf\n",
        "from tensorflow import keras\n",
        "from tensorflow.keras import layers\n",
        "\n",
        "from tensorflow.keras import Sequential\n",
        "from tensorflow.keras.layers import Dense\n",
        "from tensorflow.keras.layers import BatchNormalization\n",
        "from tensorflow.keras.layers import InputLayer\n",
        "from tensorflow.keras.layers import LSTM\n",
        "\n",
        "from tensorflow.keras.utils import plot_model\n",
        "\n",
        "from tensorflow.keras.models import model_from_json, model_from_yaml, load_model\n",
        "import numpy as np\n",
        "import os"
      ],
      "execution_count": 114,
      "outputs": []
    },
    {
      "cell_type": "code",
      "metadata": {
        "id": "_JB-VO9Ct87P"
      },
      "source": [
        "def parser(x):\n",
        "\treturn pd.datetime.strptime('190'+x, '%Y-%m')"
      ],
      "execution_count": 3,
      "outputs": []
    },
    {
      "cell_type": "code",
      "metadata": {
        "id": "IU2Lb2Gntuzy",
        "colab": {
          "base_uri": "https://localhost:8080/"
        },
        "outputId": "2d445d73-c01e-4338-bed0-53f6841f96a4"
      },
      "source": [
        "dataset = pd.read_csv('/content/shampoo_sales.csv',  header=0, parse_dates=[0], index_col=0, squeeze=True, date_parser=parser)"
      ],
      "execution_count": 50,
      "outputs": [
        {
          "output_type": "stream",
          "text": [
            "/usr/local/lib/python3.7/dist-packages/ipykernel_launcher.py:2: FutureWarning: The pandas.datetime class is deprecated and will be removed from pandas in a future version. Import from datetime module instead.\n",
            "  \n"
          ],
          "name": "stderr"
        }
      ]
    },
    {
      "cell_type": "code",
      "metadata": {
        "colab": {
          "base_uri": "https://localhost:8080/"
        },
        "id": "QtUyKqf9tzbW",
        "outputId": "f7829f69-9bfd-475c-bbf4-d4780c0a6a3f"
      },
      "source": [
        "dataset"
      ],
      "execution_count": 51,
      "outputs": [
        {
          "output_type": "execute_result",
          "data": {
            "text/plain": [
              "Month\n",
              "1901-01-01    266.0\n",
              "1901-02-01    145.9\n",
              "1901-03-01    183.1\n",
              "1901-04-01    119.3\n",
              "1901-05-01    180.3\n",
              "1901-06-01    168.5\n",
              "1901-07-01    231.8\n",
              "1901-08-01    224.5\n",
              "1901-09-01    192.8\n",
              "1901-10-01    122.9\n",
              "1901-11-01    336.5\n",
              "1901-12-01    185.9\n",
              "1902-01-01    194.3\n",
              "1902-02-01    149.5\n",
              "1902-03-01    210.1\n",
              "1902-04-01    273.3\n",
              "1902-05-01    191.4\n",
              "1902-06-01    287.0\n",
              "1902-07-01    226.0\n",
              "1902-08-01    303.6\n",
              "1902-09-01    289.9\n",
              "1902-10-01    421.6\n",
              "1902-11-01    264.5\n",
              "1902-12-01    342.3\n",
              "1903-01-01    339.7\n",
              "1903-02-01    440.4\n",
              "1903-03-01    315.9\n",
              "1903-04-01    439.3\n",
              "1903-05-01    401.3\n",
              "1903-06-01    437.4\n",
              "1903-07-01    575.5\n",
              "1903-08-01    407.6\n",
              "1903-09-01    682.0\n",
              "1903-10-01    475.3\n",
              "1903-11-01    581.3\n",
              "1903-12-01    646.9\n",
              "Name: Sales, dtype: float64"
            ]
          },
          "metadata": {
            "tags": []
          },
          "execution_count": 51
        }
      ]
    },
    {
      "cell_type": "code",
      "metadata": {
        "colab": {
          "base_uri": "https://localhost:8080/",
          "height": 291
        },
        "id": "Hp7yM7mtuD6k",
        "outputId": "00b2448d-7ed8-444e-9a53-592e6b3d1def"
      },
      "source": [
        "dataset.plot()\n",
        "pyplot.show()"
      ],
      "execution_count": 6,
      "outputs": [
        {
          "output_type": "display_data",
          "data": {
            "image/png": "[encoded data removed]",
            "text/plain": [
              "<Figure size 432x288 with 1 Axes>"
            ]
          },
          "metadata": {
            "tags": [],
            "needs_background": "light"
          }
        }
      ]
    },
    {
      "cell_type": "code",
      "metadata": {
        "id": "ehtQ8QP9uFzu"
      },
      "source": [
        "\n",
        "# split data into train and test\n",
        "X = dataset.values\n",
        "train, test = X[0:-12], X[-12:]"
      ],
      "execution_count": 8,
      "outputs": []
    },
    {
      "cell_type": "code",
      "metadata": {
        "id": "iT0-bnTKuoiT"
      },
      "source": [
        "hist = [x for x in train]"
      ],
      "execution_count": 9,
      "outputs": []
    },
    {
      "cell_type": "code",
      "metadata": {
        "colab": {
          "base_uri": "https://localhost:8080/"
        },
        "id": "sZZKJf6bxhUC",
        "outputId": "f3ae57ad-9c06-435b-a24c-330aba07f0af"
      },
      "source": [
        "test"
      ],
      "execution_count": 10,
      "outputs": [
        {
          "output_type": "execute_result",
          "data": {
            "text/plain": [
              "array([339.7, 440.4, 315.9, 439.3, 401.3, 437.4, 575.5, 407.6, 682. ,\n",
              "       475.3, 581.3, 646.9])"
            ]
          },
          "metadata": {
            "tags": []
          },
          "execution_count": 10
        }
      ]
    },
    {
      "cell_type": "code",
      "metadata": {
        "colab": {
          "base_uri": "https://localhost:8080/"
        },
        "id": "ZpwmGS58xfOh",
        "outputId": "922be219-87fb-4315-b9f6-8a5680c8a32a"
      },
      "source": [
        "hist[-1]"
      ],
      "execution_count": 11,
      "outputs": [
        {
          "output_type": "execute_result",
          "data": {
            "text/plain": [
              "342.3"
            ]
          },
          "metadata": {
            "tags": []
          },
          "execution_count": 11
        }
      ]
    },
    {
      "cell_type": "code",
      "metadata": {
        "id": "VMZRmMJUuomU"
      },
      "source": [
        "predictions = list() "
      ],
      "execution_count": 13,
      "outputs": []
    },
    {
      "cell_type": "code",
      "metadata": {
        "id": "jA8g79tIuoo8"
      },
      "source": [
        "for i in range(len(test)):\n",
        "  predictions.append(hist[-1])\n",
        "  hist.append(test[i])"
      ],
      "execution_count": 14,
      "outputs": []
    },
    {
      "cell_type": "code",
      "metadata": {
        "colab": {
          "base_uri": "https://localhost:8080/"
        },
        "id": "qlr2GZyQuore",
        "outputId": "7ab2550c-e718-4ba9-dea9-8218a1e99c6d"
      },
      "source": [
        "predictions"
      ],
      "execution_count": 15,
      "outputs": [
        {
          "output_type": "execute_result",
          "data": {
            "text/plain": [
              "[342.3,\n",
              " 339.7,\n",
              " 440.4,\n",
              " 315.9,\n",
              " 439.3,\n",
              " 401.3,\n",
              " 437.4,\n",
              " 575.5,\n",
              " 407.6,\n",
              " 682.0,\n",
              " 475.3,\n",
              " 581.3]"
            ]
          },
          "metadata": {
            "tags": []
          },
          "execution_count": 15
        }
      ]
    },
    {
      "cell_type": "code",
      "metadata": {
        "colab": {
          "base_uri": "https://localhost:8080/"
        },
        "id": "miZpwo3Duot5",
        "outputId": "dab230b3-5e31-4caa-f071-ea6fde5bf1ae"
      },
      "source": [
        "from math import sqrt\n",
        "from sklearn.metrics import mean_squared_error\n",
        "\n",
        "rmse = sqrt(mean_squared_error(test, predictions))\n",
        "print('RMSE: %.3f' % rmse)"
      ],
      "execution_count": 16,
      "outputs": [
        {
          "output_type": "stream",
          "text": [
            "RMSE: 136.761\n"
          ],
          "name": "stdout"
        }
      ]
    },
    {
      "cell_type": "code",
      "metadata": {
        "id": "13hhMqncnnP2"
      },
      "source": [
        ""
      ],
      "execution_count": null,
      "outputs": []
    },
    {
      "cell_type": "code",
      "metadata": {
        "id": "TSixpX70nnSX"
      },
      "source": [
        "def timeseries_to_supervised(data, lag=1):\n",
        "\tdf = DataFrame(data)\n",
        "\tcolumns = [df.shift(i) for i in range(1, lag+1)]\n",
        "\tcolumns.append(df)\n",
        "\tdf = concat(columns, axis=1)\n",
        "\tdf.fillna(0, inplace=True)\n",
        "\treturn df"
      ],
      "execution_count": 27,
      "outputs": []
    },
    {
      "cell_type": "code",
      "metadata": {
        "id": "G8nn7HtquowJ"
      },
      "source": [
        "lag =1 "
      ],
      "execution_count": 17,
      "outputs": []
    },
    {
      "cell_type": "code",
      "metadata": {
        "id": "fz8JfcMy5iZN"
      },
      "source": [
        "df = pd.DataFrame(train)"
      ],
      "execution_count": 18,
      "outputs": []
    },
    {
      "cell_type": "code",
      "metadata": {
        "id": "QsjQw-tH5ib-"
      },
      "source": [
        "columns = [df.shift(i) for i in range(1, 2)]"
      ],
      "execution_count": 19,
      "outputs": []
    },
    {
      "cell_type": "code",
      "metadata": {
        "colab": {
          "base_uri": "https://localhost:8080/"
        },
        "id": "nVz5-ezq8csX",
        "outputId": "828f37e2-0e30-480a-993d-a067f056dbef"
      },
      "source": [
        "columns"
      ],
      "execution_count": 20,
      "outputs": [
        {
          "output_type": "execute_result",
          "data": {
            "text/plain": [
              "[        0\n",
              " 0     NaN\n",
              " 1   266.0\n",
              " 2   145.9\n",
              " 3   183.1\n",
              " 4   119.3\n",
              " 5   180.3\n",
              " 6   168.5\n",
              " 7   231.8\n",
              " 8   224.5\n",
              " 9   192.8\n",
              " 10  122.9\n",
              " 11  336.5\n",
              " 12  185.9\n",
              " 13  194.3\n",
              " 14  149.5\n",
              " 15  210.1\n",
              " 16  273.3\n",
              " 17  191.4\n",
              " 18  287.0\n",
              " 19  226.0\n",
              " 20  303.6\n",
              " 21  289.9\n",
              " 22  421.6\n",
              " 23  264.5]"
            ]
          },
          "metadata": {
            "tags": []
          },
          "execution_count": 20
        }
      ]
    },
    {
      "cell_type": "code",
      "metadata": {
        "id": "cxPsP4Dn5ie2"
      },
      "source": [
        "columns.append(df)"
      ],
      "execution_count": 21,
      "outputs": []
    },
    {
      "cell_type": "code",
      "metadata": {
        "colab": {
          "base_uri": "https://localhost:8080/"
        },
        "id": "2DtKPeKw5ihb",
        "outputId": "7fc8e88d-8f97-4826-f736-2f36151ceaf7"
      },
      "source": [
        "columns"
      ],
      "execution_count": 22,
      "outputs": [
        {
          "output_type": "execute_result",
          "data": {
            "text/plain": [
              "[        0\n",
              " 0     NaN\n",
              " 1   266.0\n",
              " 2   145.9\n",
              " 3   183.1\n",
              " 4   119.3\n",
              " 5   180.3\n",
              " 6   168.5\n",
              " 7   231.8\n",
              " 8   224.5\n",
              " 9   192.8\n",
              " 10  122.9\n",
              " 11  336.5\n",
              " 12  185.9\n",
              " 13  194.3\n",
              " 14  149.5\n",
              " 15  210.1\n",
              " 16  273.3\n",
              " 17  191.4\n",
              " 18  287.0\n",
              " 19  226.0\n",
              " 20  303.6\n",
              " 21  289.9\n",
              " 22  421.6\n",
              " 23  264.5,         0\n",
              " 0   266.0\n",
              " 1   145.9\n",
              " 2   183.1\n",
              " 3   119.3\n",
              " 4   180.3\n",
              " 5   168.5\n",
              " 6   231.8\n",
              " 7   224.5\n",
              " 8   192.8\n",
              " 9   122.9\n",
              " 10  336.5\n",
              " 11  185.9\n",
              " 12  194.3\n",
              " 13  149.5\n",
              " 14  210.1\n",
              " 15  273.3\n",
              " 16  191.4\n",
              " 17  287.0\n",
              " 18  226.0\n",
              " 19  303.6\n",
              " 20  289.9\n",
              " 21  421.6\n",
              " 22  264.5\n",
              " 23  342.3]"
            ]
          },
          "metadata": {
            "tags": []
          },
          "execution_count": 22
        }
      ]
    },
    {
      "cell_type": "code",
      "metadata": {
        "id": "bKvyAIOq8NYA"
      },
      "source": [
        "df = pd.concat(columns, axis=1)"
      ],
      "execution_count": 23,
      "outputs": []
    },
    {
      "cell_type": "code",
      "metadata": {
        "colab": {
          "base_uri": "https://localhost:8080/",
          "height": 773
        },
        "id": "LuJb2c2P5ikg",
        "outputId": "6d9a920f-35e1-4e38-e794-59f9cdc906bc"
      },
      "source": [
        "df"
      ],
      "execution_count": 24,
      "outputs": [
        {
          "output_type": "execute_result",
          "data": {
            "text/html": [
              "<div>\n",
              "<style scoped>\n",
              "    .dataframe tbody tr th:only-of-type {\n",
              "        vertical-align: middle;\n",
              "    }\n",
              "\n",
              "    .dataframe tbody tr th {\n",
              "        vertical-align: top;\n",
              "    }\n",
              "\n",
              "    .dataframe thead th {\n",
              "        text-align: right;\n",
              "    }\n",
              "</style>\n",
              "<table border=\"1\" class=\"dataframe\">\n",
              "  <thead>\n",
              "    <tr style=\"text-align: right;\">\n",
              "      <th></th>\n",
              "      <th>0</th>\n",
              "      <th>0</th>\n",
              "    </tr>\n",
              "  </thead>\n",
              "  <tbody>\n",
              "    <tr>\n",
              "      <th>0</th>\n",
              "      <td>NaN</td>\n",
              "      <td>266.0</td>\n",
              "    </tr>\n",
              "    <tr>\n",
              "      <th>1</th>\n",
              "      <td>266.0</td>\n",
              "      <td>145.9</td>\n",
              "    </tr>\n",
              "    <tr>\n",
              "      <th>2</th>\n",
              "      <td>145.9</td>\n",
              "      <td>183.1</td>\n",
              "    </tr>\n",
              "    <tr>\n",
              "      <th>3</th>\n",
              "      <td>183.1</td>\n",
              "      <td>119.3</td>\n",
              "    </tr>\n",
              "    <tr>\n",
              "      <th>4</th>\n",
              "      <td>119.3</td>\n",
              "      <td>180.3</td>\n",
              "    </tr>\n",
              "    <tr>\n",
              "      <th>5</th>\n",
              "      <td>180.3</td>\n",
              "      <td>168.5</td>\n",
              "    </tr>\n",
              "    <tr>\n",
              "      <th>6</th>\n",
              "      <td>168.5</td>\n",
              "      <td>231.8</td>\n",
              "    </tr>\n",
              "    <tr>\n",
              "      <th>7</th>\n",
              "      <td>231.8</td>\n",
              "      <td>224.5</td>\n",
              "    </tr>\n",
              "    <tr>\n",
              "      <th>8</th>\n",
              "      <td>224.5</td>\n",
              "      <td>192.8</td>\n",
              "    </tr>\n",
              "    <tr>\n",
              "      <th>9</th>\n",
              "      <td>192.8</td>\n",
              "      <td>122.9</td>\n",
              "    </tr>\n",
              "    <tr>\n",
              "      <th>10</th>\n",
              "      <td>122.9</td>\n",
              "      <td>336.5</td>\n",
              "    </tr>\n",
              "    <tr>\n",
              "      <th>11</th>\n",
              "      <td>336.5</td>\n",
              "      <td>185.9</td>\n",
              "    </tr>\n",
              "    <tr>\n",
              "      <th>12</th>\n",
              "      <td>185.9</td>\n",
              "      <td>194.3</td>\n",
              "    </tr>\n",
              "    <tr>\n",
              "      <th>13</th>\n",
              "      <td>194.3</td>\n",
              "      <td>149.5</td>\n",
              "    </tr>\n",
              "    <tr>\n",
              "      <th>14</th>\n",
              "      <td>149.5</td>\n",
              "      <td>210.1</td>\n",
              "    </tr>\n",
              "    <tr>\n",
              "      <th>15</th>\n",
              "      <td>210.1</td>\n",
              "      <td>273.3</td>\n",
              "    </tr>\n",
              "    <tr>\n",
              "      <th>16</th>\n",
              "      <td>273.3</td>\n",
              "      <td>191.4</td>\n",
              "    </tr>\n",
              "    <tr>\n",
              "      <th>17</th>\n",
              "      <td>191.4</td>\n",
              "      <td>287.0</td>\n",
              "    </tr>\n",
              "    <tr>\n",
              "      <th>18</th>\n",
              "      <td>287.0</td>\n",
              "      <td>226.0</td>\n",
              "    </tr>\n",
              "    <tr>\n",
              "      <th>19</th>\n",
              "      <td>226.0</td>\n",
              "      <td>303.6</td>\n",
              "    </tr>\n",
              "    <tr>\n",
              "      <th>20</th>\n",
              "      <td>303.6</td>\n",
              "      <td>289.9</td>\n",
              "    </tr>\n",
              "    <tr>\n",
              "      <th>21</th>\n",
              "      <td>289.9</td>\n",
              "      <td>421.6</td>\n",
              "    </tr>\n",
              "    <tr>\n",
              "      <th>22</th>\n",
              "      <td>421.6</td>\n",
              "      <td>264.5</td>\n",
              "    </tr>\n",
              "    <tr>\n",
              "      <th>23</th>\n",
              "      <td>264.5</td>\n",
              "      <td>342.3</td>\n",
              "    </tr>\n",
              "  </tbody>\n",
              "</table>\n",
              "</div>"
            ],
            "text/plain": [
              "        0      0\n",
              "0     NaN  266.0\n",
              "1   266.0  145.9\n",
              "2   145.9  183.1\n",
              "3   183.1  119.3\n",
              "4   119.3  180.3\n",
              "5   180.3  168.5\n",
              "6   168.5  231.8\n",
              "7   231.8  224.5\n",
              "8   224.5  192.8\n",
              "9   192.8  122.9\n",
              "10  122.9  336.5\n",
              "11  336.5  185.9\n",
              "12  185.9  194.3\n",
              "13  194.3  149.5\n",
              "14  149.5  210.1\n",
              "15  210.1  273.3\n",
              "16  273.3  191.4\n",
              "17  191.4  287.0\n",
              "18  287.0  226.0\n",
              "19  226.0  303.6\n",
              "20  303.6  289.9\n",
              "21  289.9  421.6\n",
              "22  421.6  264.5\n",
              "23  264.5  342.3"
            ]
          },
          "metadata": {
            "tags": []
          },
          "execution_count": 24
        }
      ]
    },
    {
      "cell_type": "code",
      "metadata": {
        "id": "pQZk4V3f5imG"
      },
      "source": [
        "df.fillna(0, inplace=True)"
      ],
      "execution_count": 25,
      "outputs": []
    },
    {
      "cell_type": "code",
      "metadata": {
        "colab": {
          "base_uri": "https://localhost:8080/",
          "height": 773
        },
        "id": "a297k9wM5iok",
        "outputId": "8a86297c-92b8-4715-cabb-dd8e43f3e6c1"
      },
      "source": [
        "df"
      ],
      "execution_count": 26,
      "outputs": [
        {
          "output_type": "execute_result",
          "data": {
            "text/html": [
              "<div>\n",
              "<style scoped>\n",
              "    .dataframe tbody tr th:only-of-type {\n",
              "        vertical-align: middle;\n",
              "    }\n",
              "\n",
              "    .dataframe tbody tr th {\n",
              "        vertical-align: top;\n",
              "    }\n",
              "\n",
              "    .dataframe thead th {\n",
              "        text-align: right;\n",
              "    }\n",
              "</style>\n",
              "<table border=\"1\" class=\"dataframe\">\n",
              "  <thead>\n",
              "    <tr style=\"text-align: right;\">\n",
              "      <th></th>\n",
              "      <th>0</th>\n",
              "      <th>0</th>\n",
              "    </tr>\n",
              "  </thead>\n",
              "  <tbody>\n",
              "    <tr>\n",
              "      <th>0</th>\n",
              "      <td>0.0</td>\n",
              "      <td>266.0</td>\n",
              "    </tr>\n",
              "    <tr>\n",
              "      <th>1</th>\n",
              "      <td>266.0</td>\n",
              "      <td>145.9</td>\n",
              "    </tr>\n",
              "    <tr>\n",
              "      <th>2</th>\n",
              "      <td>145.9</td>\n",
              "      <td>183.1</td>\n",
              "    </tr>\n",
              "    <tr>\n",
              "      <th>3</th>\n",
              "      <td>183.1</td>\n",
              "      <td>119.3</td>\n",
              "    </tr>\n",
              "    <tr>\n",
              "      <th>4</th>\n",
              "      <td>119.3</td>\n",
              "      <td>180.3</td>\n",
              "    </tr>\n",
              "    <tr>\n",
              "      <th>5</th>\n",
              "      <td>180.3</td>\n",
              "      <td>168.5</td>\n",
              "    </tr>\n",
              "    <tr>\n",
              "      <th>6</th>\n",
              "      <td>168.5</td>\n",
              "      <td>231.8</td>\n",
              "    </tr>\n",
              "    <tr>\n",
              "      <th>7</th>\n",
              "      <td>231.8</td>\n",
              "      <td>224.5</td>\n",
              "    </tr>\n",
              "    <tr>\n",
              "      <th>8</th>\n",
              "      <td>224.5</td>\n",
              "      <td>192.8</td>\n",
              "    </tr>\n",
              "    <tr>\n",
              "      <th>9</th>\n",
              "      <td>192.8</td>\n",
              "      <td>122.9</td>\n",
              "    </tr>\n",
              "    <tr>\n",
              "      <th>10</th>\n",
              "      <td>122.9</td>\n",
              "      <td>336.5</td>\n",
              "    </tr>\n",
              "    <tr>\n",
              "      <th>11</th>\n",
              "      <td>336.5</td>\n",
              "      <td>185.9</td>\n",
              "    </tr>\n",
              "    <tr>\n",
              "      <th>12</th>\n",
              "      <td>185.9</td>\n",
              "      <td>194.3</td>\n",
              "    </tr>\n",
              "    <tr>\n",
              "      <th>13</th>\n",
              "      <td>194.3</td>\n",
              "      <td>149.5</td>\n",
              "    </tr>\n",
              "    <tr>\n",
              "      <th>14</th>\n",
              "      <td>149.5</td>\n",
              "      <td>210.1</td>\n",
              "    </tr>\n",
              "    <tr>\n",
              "      <th>15</th>\n",
              "      <td>210.1</td>\n",
              "      <td>273.3</td>\n",
              "    </tr>\n",
              "    <tr>\n",
              "      <th>16</th>\n",
              "      <td>273.3</td>\n",
              "      <td>191.4</td>\n",
              "    </tr>\n",
              "    <tr>\n",
              "      <th>17</th>\n",
              "      <td>191.4</td>\n",
              "      <td>287.0</td>\n",
              "    </tr>\n",
              "    <tr>\n",
              "      <th>18</th>\n",
              "      <td>287.0</td>\n",
              "      <td>226.0</td>\n",
              "    </tr>\n",
              "    <tr>\n",
              "      <th>19</th>\n",
              "      <td>226.0</td>\n",
              "      <td>303.6</td>\n",
              "    </tr>\n",
              "    <tr>\n",
              "      <th>20</th>\n",
              "      <td>303.6</td>\n",
              "      <td>289.9</td>\n",
              "    </tr>\n",
              "    <tr>\n",
              "      <th>21</th>\n",
              "      <td>289.9</td>\n",
              "      <td>421.6</td>\n",
              "    </tr>\n",
              "    <tr>\n",
              "      <th>22</th>\n",
              "      <td>421.6</td>\n",
              "      <td>264.5</td>\n",
              "    </tr>\n",
              "    <tr>\n",
              "      <th>23</th>\n",
              "      <td>264.5</td>\n",
              "      <td>342.3</td>\n",
              "    </tr>\n",
              "  </tbody>\n",
              "</table>\n",
              "</div>"
            ],
            "text/plain": [
              "        0      0\n",
              "0     0.0  266.0\n",
              "1   266.0  145.9\n",
              "2   145.9  183.1\n",
              "3   183.1  119.3\n",
              "4   119.3  180.3\n",
              "5   180.3  168.5\n",
              "6   168.5  231.8\n",
              "7   231.8  224.5\n",
              "8   224.5  192.8\n",
              "9   192.8  122.9\n",
              "10  122.9  336.5\n",
              "11  336.5  185.9\n",
              "12  185.9  194.3\n",
              "13  194.3  149.5\n",
              "14  149.5  210.1\n",
              "15  210.1  273.3\n",
              "16  273.3  191.4\n",
              "17  191.4  287.0\n",
              "18  287.0  226.0\n",
              "19  226.0  303.6\n",
              "20  303.6  289.9\n",
              "21  289.9  421.6\n",
              "22  421.6  264.5\n",
              "23  264.5  342.3"
            ]
          },
          "metadata": {
            "tags": []
          },
          "execution_count": 26
        }
      ]
    },
    {
      "cell_type": "code",
      "metadata": {
        "id": "PXaik0I_5irA"
      },
      "source": [
        ""
      ],
      "execution_count": null,
      "outputs": []
    },
    {
      "cell_type": "code",
      "metadata": {
        "id": "eZkk3-865itx"
      },
      "source": [
        "\n",
        "# create a differenced series\n",
        "def difference(dataset, interval=1):\n",
        "\tdiff = list()\n",
        "\tfor i in range(interval, len(dataset)):\n",
        "\t\tvalue = dataset[i] - dataset[i - interval]\n",
        "\t\tdiff.append(value)\n",
        "\treturn Series(diff)"
      ],
      "execution_count": 28,
      "outputs": []
    },
    {
      "cell_type": "code",
      "metadata": {
        "id": "pucUYYYo5iwL"
      },
      "source": [
        "# invert differenced value\n",
        "def inverse_difference(history, yhat, interval=1):\n",
        "\treturn yhat + history[-interval]"
      ],
      "execution_count": 30,
      "outputs": []
    },
    {
      "cell_type": "code",
      "metadata": {
        "id": "8aKxZOsj5iy4"
      },
      "source": [
        ""
      ],
      "execution_count": null,
      "outputs": []
    },
    {
      "cell_type": "code",
      "metadata": {
        "id": "sVj5nleCrN08"
      },
      "source": [
        "from sklearn.preprocessing import MinMaxScaler"
      ],
      "execution_count": 36,
      "outputs": []
    },
    {
      "cell_type": "code",
      "metadata": {
        "id": "udUxjNR7rN3d"
      },
      "source": [
        "#transforming \n",
        "\n",
        "X = dataset.values\n",
        "X = X.reshape(len(X), 1)\n"
      ],
      "execution_count": 35,
      "outputs": []
    },
    {
      "cell_type": "code",
      "metadata": {
        "id": "SK-hkwexrN8a"
      },
      "source": [
        "scaler = MinMaxScaler(feature_range=(-1, 1))"
      ],
      "execution_count": 38,
      "outputs": []
    },
    {
      "cell_type": "code",
      "metadata": {
        "id": "X3FVjvbd5i1E"
      },
      "source": [
        "scaler = scaler.fit(X)"
      ],
      "execution_count": 39,
      "outputs": []
    },
    {
      "cell_type": "code",
      "metadata": {
        "id": "K_E4skTRr7xl"
      },
      "source": [
        "scaler_X = scaler.transform(X)"
      ],
      "execution_count": 40,
      "outputs": []
    },
    {
      "cell_type": "code",
      "metadata": {
        "id": "gUN8di7-sBBD"
      },
      "source": [
        "inverted_x = scaler.inverse_transform(scaler_X)"
      ],
      "execution_count": 42,
      "outputs": []
    },
    {
      "cell_type": "code",
      "metadata": {
        "id": "NO1xppbZsi0s"
      },
      "source": [
        ""
      ],
      "execution_count": 43,
      "outputs": []
    },
    {
      "cell_type": "code",
      "metadata": {
        "id": "25FJqNSosi3I"
      },
      "source": [
        "# LSTM Development (RNN - Reccurrent Neural Network)"
      ],
      "execution_count": 44,
      "outputs": []
    },
    {
      "cell_type": "code",
      "metadata": {
        "id": "bPmbYIhDyXUH"
      },
      "source": [
        "# date-time parsing function for loading the dataset\n",
        "def parser(x):\n",
        "\treturn datetime.strptime('190'+x, '%Y-%m')\n",
        " \n",
        "# frame a sequence as a supervised learning problem\n",
        "def timeseries_to_supervised(data, lag=1):\n",
        "\tdf = DataFrame(data)\n",
        "\tcolumns = [df.shift(i) for i in range(1, lag+1)]\n",
        "\tcolumns.append(df)\n",
        "\tdf = concat(columns, axis=1)\n",
        "\tdf.fillna(0, inplace=True)\n",
        "\treturn df\n",
        " \n",
        "# create a differenced series\n",
        "def difference(dataset, interval=1):\n",
        "\tdiff = list()\n",
        "\tfor i in range(interval, len(dataset)):\n",
        "\t\tvalue = dataset[i] - dataset[i - interval]\n",
        "\t\tdiff.append(value)\n",
        "\treturn Series(diff)\n",
        " \n",
        "# invert differenced value\n",
        "def inverse_difference(history, yhat, interval=1):\n",
        "\treturn yhat + history[-interval]\n",
        " \n",
        "# scale train and test data to [-1, 1]\n",
        "def scale(train, test):\n",
        "\t# fit scaler\n",
        "\tscaler = MinMaxScaler(feature_range=(-1, 1))\n",
        "\tscaler = scaler.fit(train)\n",
        "\t# transform train\n",
        "\ttrain = train.reshape(train.shape[0], train.shape[1])\n",
        "\ttrain_scaled = scaler.transform(train)\n",
        "\t# transform test\n",
        "\ttest = test.reshape(test.shape[0], test.shape[1])\n",
        "\ttest_scaled = scaler.transform(test)\n",
        "\treturn scaler, train_scaled, test_scaled\n",
        " \n",
        "# inverse scaling for a forecasted value\n",
        "def invert_scale(scaler, X, value):\n",
        "\tnew_row = [x for x in X] + [value]\n",
        "\tarray = np.array(new_row)\n",
        "\tarray = array.reshape(1, len(array))\n",
        "\tinverted = scaler.inverse_transform(array)\n",
        "\treturn inverted[0, -1]"
      ],
      "execution_count": 166,
      "outputs": []
    },
    {
      "cell_type": "code",
      "metadata": {
        "id": "jM2ppQ9vyXW6"
      },
      "source": [
        ""
      ],
      "execution_count": null,
      "outputs": []
    },
    {
      "cell_type": "code",
      "metadata": {
        "id": "XDgxq-FyyXaX"
      },
      "source": [
        ""
      ],
      "execution_count": null,
      "outputs": []
    },
    {
      "cell_type": "code",
      "metadata": {
        "id": "acpMKpKOyXce"
      },
      "source": [
        ""
      ],
      "execution_count": null,
      "outputs": []
    },
    {
      "cell_type": "code",
      "metadata": {
        "colab": {
          "base_uri": "https://localhost:8080/"
        },
        "id": "ofqUoXOcsi5w",
        "outputId": "88472f62-e42e-482e-ee75-71b83f7d1c59"
      },
      "source": [
        "series = pd.read_csv('/content/shampoo_sales.csv', header=0, parse_dates=[0], index_col=0, squeeze=True, date_parser=parser)\n"
      ],
      "execution_count": 57,
      "outputs": [
        {
          "output_type": "stream",
          "text": [
            "/usr/local/lib/python3.7/dist-packages/ipykernel_launcher.py:2: FutureWarning: The pandas.datetime class is deprecated and will be removed from pandas in a future version. Import from datetime module instead.\n",
            "  \n"
          ],
          "name": "stderr"
        }
      ]
    },
    {
      "cell_type": "code",
      "metadata": {
        "id": "juyIl6go3UA4"
      },
      "source": [
        "# TRANSFORMATION STEPS "
      ],
      "execution_count": 60,
      "outputs": []
    },
    {
      "cell_type": "code",
      "metadata": {
        "id": "w4cXRdmUsi8y"
      },
      "source": [
        "# GET DIFFERENCE FROM DATA (STATIONARY PART)\n",
        "\n",
        "# create a differenced series\n",
        "def difference(dataset, interval=1):\n",
        "\tdiff = list()\n",
        "\tfor i in range(interval, len(dataset)):\n",
        "\t\tvalue = dataset[i] - dataset[i - interval]\n",
        "\t\tdiff.append(value)\n",
        "\treturn pd.Series(diff)"
      ],
      "execution_count": 68,
      "outputs": []
    },
    {
      "cell_type": "code",
      "metadata": {
        "id": "nziVmrW7si_b"
      },
      "source": [
        "raw_values = series.values"
      ],
      "execution_count": 65,
      "outputs": []
    },
    {
      "cell_type": "code",
      "metadata": {
        "id": "V0ENAbiBsmum"
      },
      "source": [
        "diff_values = difference(raw_values, 1)"
      ],
      "execution_count": 66,
      "outputs": []
    },
    {
      "cell_type": "code",
      "metadata": {
        "id": "q5RuT9Ujsmxc"
      },
      "source": [
        "# frame a sequence as a supervised learning problem\n",
        "def timeseries_to_supervised(data, lag=1):\n",
        "\tdf = pd.DataFrame(data)\n",
        "\tcolumns = [df.shift(i) for i in range(1, lag+1)]\n",
        "\tcolumns.append(df)\n",
        "\tdf = pd.concat(columns, axis=1)\n",
        "\tdf.fillna(0, inplace=True)\n",
        "\treturn df"
      ],
      "execution_count": 79,
      "outputs": []
    },
    {
      "cell_type": "code",
      "metadata": {
        "id": "t0LpEQ84sm0q"
      },
      "source": [
        "supervised = timeseries_to_supervised(diff_values, 1)"
      ],
      "execution_count": 80,
      "outputs": []
    },
    {
      "cell_type": "code",
      "metadata": {
        "id": "8DWdRFAY4Erh"
      },
      "source": [
        "supervised_values  =  supervised.values"
      ],
      "execution_count": 84,
      "outputs": []
    },
    {
      "cell_type": "code",
      "metadata": {
        "id": "RngZpSka4EuU"
      },
      "source": [
        ""
      ],
      "execution_count": null,
      "outputs": []
    },
    {
      "cell_type": "code",
      "metadata": {
        "id": "9AWx0ylX4Exz"
      },
      "source": [
        "train, test = supervised_values[0:-12], supervised_values[-12:]"
      ],
      "execution_count": 86,
      "outputs": []
    },
    {
      "cell_type": "code",
      "metadata": {
        "id": "hmG9Kibi4Ezu"
      },
      "source": [
        "def scale(train, test):\n",
        "\t# fit scaler\n",
        "\tscaler = MinMaxScaler(feature_range=(-1, 1))\n",
        "\tscaler = scaler.fit(train)\n",
        "\t# transform train\n",
        "\ttrain = train.reshape(train.shape[0], train.shape[1])\n",
        "\ttrain_scaled = scaler.transform(train)\n",
        "\t# transform test\n",
        "\ttest = test.reshape(test.shape[0], test.shape[1])\n",
        "\ttest_scaled = scaler.transform(test)\n",
        "\treturn scaler, train_scaled, test_scaled"
      ],
      "execution_count": 88,
      "outputs": []
    },
    {
      "cell_type": "code",
      "metadata": {
        "id": "zf359vxK4E1z"
      },
      "source": [
        "scaler, train_scaled, test_scaled = scale(train, test)"
      ],
      "execution_count": 92,
      "outputs": []
    },
    {
      "cell_type": "code",
      "metadata": {
        "id": "87KxC_7V4E48"
      },
      "source": [
        ""
      ],
      "execution_count": 94,
      "outputs": []
    },
    {
      "cell_type": "code",
      "metadata": {
        "id": "OeePAsJH4E61"
      },
      "source": [
        "# Basic LSTM \n"
      ],
      "execution_count": 95,
      "outputs": []
    },
    {
      "cell_type": "code",
      "metadata": {
        "id": "KQb6IarW4E9e"
      },
      "source": [
        "X, y  = train_scaled[:, 0:-1], train_scaled[:, -1]"
      ],
      "execution_count": 106,
      "outputs": []
    },
    {
      "cell_type": "code",
      "metadata": {
        "id": "cfOFG2VfAHPg"
      },
      "source": [
        ""
      ],
      "execution_count": 108,
      "outputs": []
    },
    {
      "cell_type": "code",
      "metadata": {
        "id": "-vUDxORV4FAA"
      },
      "source": [
        "X = X.reshape(X.shape[0], 1, X.shape[1])"
      ],
      "execution_count": 109,
      "outputs": []
    },
    {
      "cell_type": "code",
      "metadata": {
        "id": "YMIIyCJbuWRP"
      },
      "source": [
        "def fit_lstm(train, batch_size, nb_epoch, neurons):\n",
        "\tX, y = train[:, 0:-1], train[:, -1]\n",
        "\tX = X.reshape(X.shape[0], 1, X.shape[1])\n",
        "\tmodel = Sequential()\n",
        "\tmodel.add(LSTM(neurons, batch_input_shape=(batch_size, X.shape[1], X.shape[2]), stateful=True))\n",
        "\tmodel.add(Dense(1))\n",
        "\tmodel.compile(loss='mean_squared_error', optimizer='adam')\n",
        "\tfor i in range(nb_epoch):\n",
        "\t\tmodel.fit(X, y, epochs=1, batch_size=batch_size, shuffle=False)\n",
        "\t\tmodel.reset_states()\n",
        "\treturn model"
      ],
      "execution_count": 121,
      "outputs": []
    },
    {
      "cell_type": "code",
      "metadata": {
        "id": "bnGkksjxu8hg"
      },
      "source": [
        "model = fit_lstm(train_scaled, 1, 1500, 1)"
      ],
      "execution_count": null,
      "outputs": []
    },
    {
      "cell_type": "code",
      "metadata": {
        "id": "D-3u2X95K8P0"
      },
      "source": [
        ""
      ],
      "execution_count": 124,
      "outputs": []
    },
    {
      "cell_type": "code",
      "metadata": {
        "id": "YSt3LyLWvHQE"
      },
      "source": [
        "train_reshaped = train_scaled[:, 0].reshape(len(train_scaled), 1, 1)"
      ],
      "execution_count": 127,
      "outputs": []
    },
    {
      "cell_type": "code",
      "metadata": {
        "colab": {
          "base_uri": "https://localhost:8080/"
        },
        "id": "NzMkmg23vLJK",
        "outputId": "fd7d10b6-ed8c-4bef-e7a1-9fd78b6519e8"
      },
      "source": [
        "model.predict(train_reshaped, batch_size=1)"
      ],
      "execution_count": 130,
      "outputs": [
        {
          "output_type": "execute_result",
          "data": {
            "text/plain": [
              "array([[-0.18695335],\n",
              "       [ 0.2391745 ],\n",
              "       [-0.31425652],\n",
              "       [ 0.22346553],\n",
              "       [-0.42989963],\n",
              "       [ 0.06377352],\n",
              "       [-0.4810392 ],\n",
              "       [ 0.05720271],\n",
              "       [-0.01611367],\n",
              "       [ 0.1644203 ],\n",
              "       [-0.8359257 ],\n",
              "       [ 0.23913144],\n",
              "       [-0.18782175],\n",
              "       [ 0.12880525],\n",
              "       [-0.45691815],\n",
              "       [-0.47427443],\n",
              "       [ 0.26774964],\n",
              "       [-0.50670457],\n",
              "       [ 0.2644057 ],\n",
              "       [-0.46933517],\n",
              "       [ 0.09772631],\n",
              "       [-0.6949325 ],\n",
              "       [ 0.22610904]], dtype=float32)"
            ]
          },
          "metadata": {
            "tags": []
          },
          "execution_count": 130
        }
      ]
    },
    {
      "cell_type": "code",
      "metadata": {
        "colab": {
          "base_uri": "https://localhost:8080/"
        },
        "id": "1hu9tMg6aEln",
        "outputId": "131369a5-2b7f-493a-fc28-fba39135eb33"
      },
      "source": [
        "test_scaled"
      ],
      "execution_count": 138,
      "outputs": [
        {
          "output_type": "execute_result",
          "data": {
            "text/plain": [
              "array([[ 0.26733207, -0.16644187],\n",
              "       [-0.16644187,  0.39088211],\n",
              "       [ 0.39088211, -0.82411654],\n",
              "       [-0.82411654,  0.51335312],\n",
              "       [ 0.51335312, -0.35743189],\n",
              "       [-0.35743189,  0.04235231],\n",
              "       [ 0.04235231,  0.59266253],\n",
              "       [ 0.59266253, -1.05826814],\n",
              "       [-1.05826814,  1.32802806],\n",
              "       [ 1.32802806, -1.26760183],\n",
              "       [-1.26760183,  0.41947667],\n",
              "       [ 0.41947667,  0.20151066]])"
            ]
          },
          "metadata": {
            "tags": []
          },
          "execution_count": 138
        }
      ]
    },
    {
      "cell_type": "code",
      "metadata": {
        "id": "Fs0n6fuZvNID"
      },
      "source": [
        "predictions = list() "
      ],
      "execution_count": 135,
      "outputs": []
    },
    {
      "cell_type": "code",
      "metadata": {
        "id": "8udgjTI3vU8y",
        "colab": {
          "base_uri": "https://localhost:8080/"
        },
        "outputId": "66b3d920-055a-41af-a300-f75c600664b7"
      },
      "source": [
        "for i in range(len(test_scaled)):\n",
        "  X, y = test_scaled[i, 0:-1], test_scaled[i, -1] \n",
        "  print(i)"
      ],
      "execution_count": 137,
      "outputs": [
        {
          "output_type": "stream",
          "text": [
            "0\n",
            "1\n",
            "2\n",
            "3\n",
            "4\n",
            "5\n",
            "6\n",
            "7\n",
            "8\n",
            "9\n",
            "10\n",
            "11\n"
          ],
          "name": "stdout"
        }
      ]
    },
    {
      "cell_type": "code",
      "metadata": {
        "id": "G36PT14Sxr5D"
      },
      "source": [
        "test_point = test_scaled[1, 0:-1]\n",
        "test_y = test_scaled[1, -1]"
      ],
      "execution_count": 163,
      "outputs": []
    },
    {
      "cell_type": "code",
      "metadata": {
        "id": "cUZ02ILax-gv"
      },
      "source": [
        "tp = test_point.reshape(1, 1, len(test_point))"
      ],
      "execution_count": 155,
      "outputs": []
    },
    {
      "cell_type": "code",
      "metadata": {
        "colab": {
          "base_uri": "https://localhost:8080/"
        },
        "id": "wrMPRomIxw0L",
        "outputId": "2f10416c-c088-404e-9f89-f3d9a74601d4"
      },
      "source": [
        "test_point, tp"
      ],
      "execution_count": 157,
      "outputs": [
        {
          "output_type": "execute_result",
          "data": {
            "text/plain": [
              "(array([-0.16644187]), array([[[-0.16644187]]]))"
            ]
          },
          "metadata": {
            "tags": []
          },
          "execution_count": 157
        }
      ]
    },
    {
      "cell_type": "code",
      "metadata": {
        "id": "a9dAD4CVx3dQ"
      },
      "source": [
        "pred_point = model.predict(tp, batch_size=1)"
      ],
      "execution_count": 158,
      "outputs": []
    },
    {
      "cell_type": "code",
      "metadata": {
        "id": "8wDMqWDDJujN",
        "colab": {
          "base_uri": "https://localhost:8080/"
        },
        "outputId": "16928acc-8ed5-40d9-bb9a-e41ef26899f6"
      },
      "source": [
        "pred_point, test_y"
      ],
      "execution_count": 164,
      "outputs": [
        {
          "output_type": "execute_result",
          "data": {
            "text/plain": [
              "(array([[-0.14004363]], dtype=float32), 0.39088211491772307)"
            ]
          },
          "metadata": {
            "tags": []
          },
          "execution_count": 164
        }
      ]
    },
    {
      "cell_type": "code",
      "metadata": {
        "id": "YvTMO_4OJuzX",
        "colab": {
          "base_uri": "https://localhost:8080/"
        },
        "outputId": "e7de8fd7-c921-4e96-82c6-b472430f2f89"
      },
      "source": [
        "y_h = invert_scale(scaler, test_point, pred_point)"
      ],
      "execution_count": 167,
      "outputs": [
        {
          "output_type": "stream",
          "text": [
            "/usr/local/lib/python3.7/dist-packages/ipykernel_launcher.py:42: VisibleDeprecationWarning: Creating an ndarray from ragged nested sequences (which is a list-or-tuple of lists-or-tuples-or ndarrays with different lengths or shapes) is deprecated. If you meant to do this, you must specify 'dtype=object' when creating the ndarray\n"
          ],
          "name": "stderr"
        }
      ]
    },
    {
      "cell_type": "code",
      "metadata": {
        "id": "lpFOX7WRJu2B",
        "colab": {
          "base_uri": "https://localhost:8080/"
        },
        "outputId": "88e1bb08-3765-4030-a739-c70ca6e92cc8"
      },
      "source": [
        "y_h"
      ],
      "execution_count": 168,
      "outputs": [
        {
          "output_type": "execute_result",
          "data": {
            "text/plain": [
              "2.292912957817325"
            ]
          },
          "metadata": {
            "tags": []
          },
          "execution_count": 168
        }
      ]
    },
    {
      "cell_type": "code",
      "metadata": {
        "id": "qx93zlVbJu42"
      },
      "source": [
        ""
      ],
      "execution_count": null,
      "outputs": []
    }
  ]
}