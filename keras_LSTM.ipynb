{
  "cells": [
    {
      "cell_type": "markdown",
      "metadata": {
        "colab_type": "text",
        "id": "view-in-github"
      },
      "source": [
        "<a href=\"https://colab.research.google.com/github/denmj/Algos-Euler/blob/master/keras_LSTM.ipynb\" target=\"_parent\"><img src=\"https://colab.research.google.com/assets/colab-badge.svg\" alt=\"Open In Colab\"/></a>"
      ]
    },
    {
      "cell_type": "code",
      "execution_count": 1,
      "metadata": {},
      "outputs": [
        {
          "name": "stdout",
          "output_type": "stream",
          "text": [
            "conda env:  algo-euler-conda\n",
            "conda env path:  C:\\Users\\dmamed01\\Anaconda3\\envs\\algo-euler-conda\n"
          ]
        }
      ],
      "source": [
        "import os\n",
        "print(\"conda env: \", os.environ['CONDA_DEFAULT_ENV'])\n",
        "print(\"conda env path: \", os.environ['CONDA_PREFIX'])\n"
      ]
    },
    {
      "cell_type": "code",
      "execution_count": 2,
      "metadata": {},
      "outputs": [],
      "source": [
        "import numpy as np\n",
        "import pandas as pd\n",
        "import scipy as sp"
      ]
    },
    {
      "cell_type": "code",
      "execution_count": null,
      "metadata": {
        "id": "MbbSwF6_tp3c"
      },
      "outputs": [],
      "source": [
        "import pandas as pd\n",
        "from matplotlib import pyplot\n",
        "\n",
        "from numpy import loadtxt\n",
        "import tensorflow as tf\n",
        "from tensorflow import keras\n",
        "from tensorflow.keras import layers\n",
        "\n",
        "from tensorflow.keras import Sequential\n",
        "from tensorflow.keras.layers import Dense\n",
        "from tensorflow.keras.layers import BatchNormalization\n",
        "from tensorflow.keras.layers import InputLayer\n",
        "from tensorflow.keras.layers import LSTM\n",
        "\n",
        "from tensorflow.keras.utils import plot_model\n",
        "\n",
        "from tensorflow.keras.models import model_from_json, model_from_yaml, load_model\n",
        "import numpy as np\n",
        "import os"
      ]
    },
    {
      "cell_type": "code",
      "execution_count": null,
      "metadata": {
        "id": "_JB-VO9Ct87P"
      },
      "outputs": [],
      "source": [
        "def parser(x):\n",
        "\treturn pd.datetime.strptime('190'+x, '%Y-%m')"
      ]
    },
    {
      "cell_type": "code",
      "execution_count": null,
      "metadata": {
        "colab": {
          "base_uri": "https://localhost:8080/"
        },
        "id": "IU2Lb2Gntuzy",
        "outputId": "2d445d73-c01e-4338-bed0-53f6841f96a4"
      },
      "outputs": [],
      "source": [
        "dataset = pd.read_csv('/content/shampoo_sales.csv',  header=0, parse_dates=[0], index_col=0, squeeze=True, date_parser=parser)"
      ]
    },
    {
      "cell_type": "code",
      "execution_count": null,
      "metadata": {
        "colab": {
          "base_uri": "https://localhost:8080/"
        },
        "id": "QtUyKqf9tzbW",
        "outputId": "f7829f69-9bfd-475c-bbf4-d4780c0a6a3f"
      },
      "outputs": [],
      "source": [
        "dataset"
      ]
    },
    {
      "cell_type": "code",
      "execution_count": null,
      "metadata": {
        "colab": {
          "base_uri": "https://localhost:8080/",
          "height": 291
        },
        "id": "Hp7yM7mtuD6k",
        "outputId": "00b2448d-7ed8-444e-9a53-592e6b3d1def"
      },
      "outputs": [],
      "source": [
        "dataset.plot()\n",
        "pyplot.show()"
      ]
    },
    {
      "cell_type": "code",
      "execution_count": null,
      "metadata": {
        "id": "ehtQ8QP9uFzu"
      },
      "outputs": [],
      "source": [
        "\n",
        "# split data into train and test\n",
        "X = dataset.values\n",
        "train, test = X[0:-12], X[-12:]"
      ]
    },
    {
      "cell_type": "code",
      "execution_count": null,
      "metadata": {
        "id": "iT0-bnTKuoiT"
      },
      "outputs": [],
      "source": [
        "hist = [x for x in train]"
      ]
    },
    {
      "cell_type": "code",
      "execution_count": null,
      "metadata": {
        "colab": {
          "base_uri": "https://localhost:8080/"
        },
        "id": "sZZKJf6bxhUC",
        "outputId": "f3ae57ad-9c06-435b-a24c-330aba07f0af"
      },
      "outputs": [],
      "source": [
        "test"
      ]
    },
    {
      "cell_type": "code",
      "execution_count": null,
      "metadata": {
        "colab": {
          "base_uri": "https://localhost:8080/"
        },
        "id": "ZpwmGS58xfOh",
        "outputId": "922be219-87fb-4315-b9f6-8a5680c8a32a"
      },
      "outputs": [],
      "source": [
        "hist[-1]"
      ]
    },
    {
      "cell_type": "code",
      "execution_count": null,
      "metadata": {
        "id": "VMZRmMJUuomU"
      },
      "outputs": [],
      "source": [
        "predictions = list() "
      ]
    },
    {
      "cell_type": "code",
      "execution_count": null,
      "metadata": {
        "id": "jA8g79tIuoo8"
      },
      "outputs": [],
      "source": [
        "for i in range(len(test)):\n",
        "  predictions.append(hist[-1])\n",
        "  hist.append(test[i])"
      ]
    },
    {
      "cell_type": "code",
      "execution_count": null,
      "metadata": {
        "colab": {
          "base_uri": "https://localhost:8080/"
        },
        "id": "qlr2GZyQuore",
        "outputId": "7ab2550c-e718-4ba9-dea9-8218a1e99c6d"
      },
      "outputs": [],
      "source": [
        "predictions"
      ]
    },
    {
      "cell_type": "code",
      "execution_count": null,
      "metadata": {
        "colab": {
          "base_uri": "https://localhost:8080/"
        },
        "id": "miZpwo3Duot5",
        "outputId": "dab230b3-5e31-4caa-f071-ea6fde5bf1ae"
      },
      "outputs": [],
      "source": [
        "from math import sqrt\n",
        "from sklearn.metrics import mean_squared_error\n",
        "\n",
        "rmse = sqrt(mean_squared_error(test, predictions))\n",
        "print('RMSE: %.3f' % rmse)"
      ]
    },
    {
      "cell_type": "code",
      "execution_count": null,
      "metadata": {
        "id": "13hhMqncnnP2"
      },
      "outputs": [],
      "source": []
    },
    {
      "cell_type": "code",
      "execution_count": null,
      "metadata": {
        "id": "TSixpX70nnSX"
      },
      "outputs": [],
      "source": [
        "def timeseries_to_supervised(data, lag=1):\n",
        "\tdf = DataFrame(data)\n",
        "\tcolumns = [df.shift(i) for i in range(1, lag+1)]\n",
        "\tcolumns.append(df)\n",
        "\tdf = concat(columns, axis=1)\n",
        "\tdf.fillna(0, inplace=True)\n",
        "\treturn df"
      ]
    },
    {
      "cell_type": "code",
      "execution_count": null,
      "metadata": {
        "id": "G8nn7HtquowJ"
      },
      "outputs": [],
      "source": [
        "lag =1 "
      ]
    },
    {
      "cell_type": "code",
      "execution_count": null,
      "metadata": {
        "id": "fz8JfcMy5iZN"
      },
      "outputs": [],
      "source": [
        "df = pd.DataFrame(train)"
      ]
    },
    {
      "cell_type": "code",
      "execution_count": null,
      "metadata": {
        "id": "QsjQw-tH5ib-"
      },
      "outputs": [],
      "source": [
        "columns = [df.shift(i) for i in range(1, 2)]"
      ]
    },
    {
      "cell_type": "code",
      "execution_count": null,
      "metadata": {
        "colab": {
          "base_uri": "https://localhost:8080/"
        },
        "id": "nVz5-ezq8csX",
        "outputId": "828f37e2-0e30-480a-993d-a067f056dbef"
      },
      "outputs": [],
      "source": [
        "columns"
      ]
    },
    {
      "cell_type": "code",
      "execution_count": null,
      "metadata": {
        "id": "cxPsP4Dn5ie2"
      },
      "outputs": [],
      "source": [
        "columns.append(df)"
      ]
    },
    {
      "cell_type": "code",
      "execution_count": null,
      "metadata": {
        "colab": {
          "base_uri": "https://localhost:8080/"
        },
        "id": "2DtKPeKw5ihb",
        "outputId": "7fc8e88d-8f97-4826-f736-2f36151ceaf7"
      },
      "outputs": [],
      "source": [
        "columns"
      ]
    },
    {
      "cell_type": "code",
      "execution_count": null,
      "metadata": {
        "id": "bKvyAIOq8NYA"
      },
      "outputs": [],
      "source": [
        "df = pd.concat(columns, axis=1)"
      ]
    },
    {
      "cell_type": "code",
      "execution_count": null,
      "metadata": {
        "colab": {
          "base_uri": "https://localhost:8080/",
          "height": 773
        },
        "id": "LuJb2c2P5ikg",
        "outputId": "6d9a920f-35e1-4e38-e794-59f9cdc906bc"
      },
      "outputs": [],
      "source": [
        "df"
      ]
    },
    {
      "cell_type": "code",
      "execution_count": null,
      "metadata": {
        "id": "pQZk4V3f5imG"
      },
      "outputs": [],
      "source": [
        "df.fillna(0, inplace=True)"
      ]
    },
    {
      "cell_type": "code",
      "execution_count": null,
      "metadata": {
        "colab": {
          "base_uri": "https://localhost:8080/",
          "height": 773
        },
        "id": "a297k9wM5iok",
        "outputId": "8a86297c-92b8-4715-cabb-dd8e43f3e6c1"
      },
      "outputs": [],
      "source": [
        "df"
      ]
    },
    {
      "cell_type": "code",
      "execution_count": null,
      "metadata": {
        "id": "PXaik0I_5irA"
      },
      "outputs": [],
      "source": []
    },
    {
      "cell_type": "code",
      "execution_count": null,
      "metadata": {
        "id": "eZkk3-865itx"
      },
      "outputs": [],
      "source": [
        "\n",
        "# create a differenced series\n",
        "def difference(dataset, interval=1):\n",
        "\tdiff = list()\n",
        "\tfor i in range(interval, len(dataset)):\n",
        "\t\tvalue = dataset[i] - dataset[i - interval]\n",
        "\t\tdiff.append(value)\n",
        "\treturn Series(diff)"
      ]
    },
    {
      "cell_type": "code",
      "execution_count": null,
      "metadata": {
        "id": "pucUYYYo5iwL"
      },
      "outputs": [],
      "source": [
        "# invert differenced value\n",
        "def inverse_difference(history, yhat, interval=1):\n",
        "\treturn yhat + history[-interval]"
      ]
    },
    {
      "cell_type": "code",
      "execution_count": null,
      "metadata": {
        "id": "8aKxZOsj5iy4"
      },
      "outputs": [],
      "source": []
    },
    {
      "cell_type": "code",
      "execution_count": null,
      "metadata": {
        "id": "sVj5nleCrN08"
      },
      "outputs": [],
      "source": [
        "from sklearn.preprocessing import MinMaxScaler"
      ]
    },
    {
      "cell_type": "code",
      "execution_count": null,
      "metadata": {
        "id": "udUxjNR7rN3d"
      },
      "outputs": [],
      "source": [
        "#transforming \n",
        "\n",
        "X = dataset.values\n",
        "X = X.reshape(len(X), 1)\n"
      ]
    },
    {
      "cell_type": "code",
      "execution_count": null,
      "metadata": {
        "id": "SK-hkwexrN8a"
      },
      "outputs": [],
      "source": [
        "scaler = MinMaxScaler(feature_range=(-1, 1))"
      ]
    },
    {
      "cell_type": "code",
      "execution_count": null,
      "metadata": {
        "id": "X3FVjvbd5i1E"
      },
      "outputs": [],
      "source": [
        "scaler = scaler.fit(X)"
      ]
    },
    {
      "cell_type": "code",
      "execution_count": null,
      "metadata": {
        "id": "K_E4skTRr7xl"
      },
      "outputs": [],
      "source": [
        "scaler_X = scaler.transform(X)"
      ]
    },
    {
      "cell_type": "code",
      "execution_count": null,
      "metadata": {
        "id": "gUN8di7-sBBD"
      },
      "outputs": [],
      "source": [
        "inverted_x = scaler.inverse_transform(scaler_X)"
      ]
    },
    {
      "cell_type": "code",
      "execution_count": null,
      "metadata": {
        "id": "NO1xppbZsi0s"
      },
      "outputs": [],
      "source": []
    },
    {
      "cell_type": "code",
      "execution_count": null,
      "metadata": {
        "id": "25FJqNSosi3I"
      },
      "outputs": [],
      "source": [
        "# LSTM Development (RNN - Reccurrent Neural Network)"
      ]
    },
    {
      "cell_type": "code",
      "execution_count": null,
      "metadata": {
        "id": "bPmbYIhDyXUH"
      },
      "outputs": [],
      "source": [
        "# date-time parsing function for loading the dataset\n",
        "def parser(x):\n",
        "\treturn datetime.strptime('190'+x, '%Y-%m')\n",
        " \n",
        "# frame a sequence as a supervised learning problem\n",
        "def timeseries_to_supervised(data, lag=1):\n",
        "\tdf = DataFrame(data)\n",
        "\tcolumns = [df.shift(i) for i in range(1, lag+1)]\n",
        "\tcolumns.append(df)\n",
        "\tdf = concat(columns, axis=1)\n",
        "\tdf.fillna(0, inplace=True)\n",
        "\treturn df\n",
        " \n",
        "# create a differenced series\n",
        "def difference(dataset, interval=1):\n",
        "\tdiff = list()\n",
        "\tfor i in range(interval, len(dataset)):\n",
        "\t\tvalue = dataset[i] - dataset[i - interval]\n",
        "\t\tdiff.append(value)\n",
        "\treturn Series(diff)\n",
        " \n",
        "# invert differenced value\n",
        "def inverse_difference(history, yhat, interval=1):\n",
        "\treturn yhat + history[-interval]\n",
        " \n",
        "# scale train and test data to [-1, 1]\n",
        "def scale(train, test):\n",
        "\t# fit scaler\n",
        "\tscaler = MinMaxScaler(feature_range=(-1, 1))\n",
        "\tscaler = scaler.fit(train)\n",
        "\t# transform train\n",
        "\ttrain = train.reshape(train.shape[0], train.shape[1])\n",
        "\ttrain_scaled = scaler.transform(train)\n",
        "\t# transform test\n",
        "\ttest = test.reshape(test.shape[0], test.shape[1])\n",
        "\ttest_scaled = scaler.transform(test)\n",
        "\treturn scaler, train_scaled, test_scaled\n",
        " \n",
        "# inverse scaling for a forecasted value\n",
        "def invert_scale(scaler, X, value):\n",
        "\tnew_row = [x for x in X] + [value]\n",
        "\tarray = np.array(new_row)\n",
        "\tarray = array.reshape(1, len(array))\n",
        "\tinverted = scaler.inverse_transform(array)\n",
        "\treturn inverted[0, -1]"
      ]
    },
    {
      "cell_type": "code",
      "execution_count": null,
      "metadata": {
        "id": "jM2ppQ9vyXW6"
      },
      "outputs": [],
      "source": []
    },
    {
      "cell_type": "code",
      "execution_count": null,
      "metadata": {
        "id": "XDgxq-FyyXaX"
      },
      "outputs": [],
      "source": []
    },
    {
      "cell_type": "code",
      "execution_count": null,
      "metadata": {
        "id": "acpMKpKOyXce"
      },
      "outputs": [],
      "source": []
    },
    {
      "cell_type": "code",
      "execution_count": null,
      "metadata": {
        "colab": {
          "base_uri": "https://localhost:8080/"
        },
        "id": "ofqUoXOcsi5w",
        "outputId": "88472f62-e42e-482e-ee75-71b83f7d1c59"
      },
      "outputs": [],
      "source": [
        "series = pd.read_csv('/content/shampoo_sales.csv', header=0, parse_dates=[0], index_col=0, squeeze=True, date_parser=parser)\n"
      ]
    },
    {
      "cell_type": "code",
      "execution_count": null,
      "metadata": {
        "id": "juyIl6go3UA4"
      },
      "outputs": [],
      "source": [
        "# TRANSFORMATION STEPS "
      ]
    },
    {
      "cell_type": "code",
      "execution_count": null,
      "metadata": {
        "id": "w4cXRdmUsi8y"
      },
      "outputs": [],
      "source": [
        "# GET DIFFERENCE FROM DATA (STATIONARY PART)\n",
        "\n",
        "# create a differenced series\n",
        "def difference(dataset, interval=1):\n",
        "\tdiff = list()\n",
        "\tfor i in range(interval, len(dataset)):\n",
        "\t\tvalue = dataset[i] - dataset[i - interval]\n",
        "\t\tdiff.append(value)\n",
        "\treturn pd.Series(diff)"
      ]
    },
    {
      "cell_type": "code",
      "execution_count": null,
      "metadata": {
        "id": "nziVmrW7si_b"
      },
      "outputs": [],
      "source": [
        "raw_values = series.values"
      ]
    },
    {
      "cell_type": "code",
      "execution_count": null,
      "metadata": {
        "id": "V0ENAbiBsmum"
      },
      "outputs": [],
      "source": [
        "diff_values = difference(raw_values, 1)"
      ]
    },
    {
      "cell_type": "code",
      "execution_count": null,
      "metadata": {
        "id": "q5RuT9Ujsmxc"
      },
      "outputs": [],
      "source": [
        "# frame a sequence as a supervised learning problem\n",
        "def timeseries_to_supervised(data, lag=1):\n",
        "\tdf = pd.DataFrame(data)\n",
        "\tcolumns = [df.shift(i) for i in range(1, lag+1)]\n",
        "\tcolumns.append(df)\n",
        "\tdf = pd.concat(columns, axis=1)\n",
        "\tdf.fillna(0, inplace=True)\n",
        "\treturn df"
      ]
    },
    {
      "cell_type": "code",
      "execution_count": null,
      "metadata": {
        "id": "t0LpEQ84sm0q"
      },
      "outputs": [],
      "source": [
        "supervised = timeseries_to_supervised(diff_values, 1)"
      ]
    },
    {
      "cell_type": "code",
      "execution_count": null,
      "metadata": {
        "id": "8DWdRFAY4Erh"
      },
      "outputs": [],
      "source": [
        "supervised_values  =  supervised.values"
      ]
    },
    {
      "cell_type": "code",
      "execution_count": null,
      "metadata": {
        "id": "RngZpSka4EuU"
      },
      "outputs": [],
      "source": []
    },
    {
      "cell_type": "code",
      "execution_count": null,
      "metadata": {
        "id": "9AWx0ylX4Exz"
      },
      "outputs": [],
      "source": [
        "train, test = supervised_values[0:-12], supervised_values[-12:]"
      ]
    },
    {
      "cell_type": "code",
      "execution_count": null,
      "metadata": {
        "id": "hmG9Kibi4Ezu"
      },
      "outputs": [],
      "source": [
        "def scale(train, test):\n",
        "\t# fit scaler\n",
        "\tscaler = MinMaxScaler(feature_range=(-1, 1))\n",
        "\tscaler = scaler.fit(train)\n",
        "\t# transform train\n",
        "\ttrain = train.reshape(train.shape[0], train.shape[1])\n",
        "\ttrain_scaled = scaler.transform(train)\n",
        "\t# transform test\n",
        "\ttest = test.reshape(test.shape[0], test.shape[1])\n",
        "\ttest_scaled = scaler.transform(test)\n",
        "\treturn scaler, train_scaled, test_scaled"
      ]
    },
    {
      "cell_type": "code",
      "execution_count": null,
      "metadata": {
        "id": "zf359vxK4E1z"
      },
      "outputs": [],
      "source": [
        "scaler, train_scaled, test_scaled = scale(train, test)"
      ]
    },
    {
      "cell_type": "code",
      "execution_count": null,
      "metadata": {
        "id": "87KxC_7V4E48"
      },
      "outputs": [],
      "source": []
    },
    {
      "cell_type": "code",
      "execution_count": null,
      "metadata": {
        "id": "OeePAsJH4E61"
      },
      "outputs": [],
      "source": [
        "# Basic LSTM \n"
      ]
    },
    {
      "cell_type": "code",
      "execution_count": null,
      "metadata": {
        "id": "KQb6IarW4E9e"
      },
      "outputs": [],
      "source": [
        "X, y  = train_scaled[:, 0:-1], train_scaled[:, -1]"
      ]
    },
    {
      "cell_type": "code",
      "execution_count": null,
      "metadata": {
        "id": "cfOFG2VfAHPg"
      },
      "outputs": [],
      "source": []
    },
    {
      "cell_type": "code",
      "execution_count": null,
      "metadata": {
        "id": "-vUDxORV4FAA"
      },
      "outputs": [],
      "source": [
        "X = X.reshape(X.shape[0], 1, X.shape[1])"
      ]
    },
    {
      "cell_type": "code",
      "execution_count": null,
      "metadata": {
        "id": "YMIIyCJbuWRP"
      },
      "outputs": [],
      "source": [
        "def fit_lstm(train, batch_size, nb_epoch, neurons):\n",
        "\tX, y = train[:, 0:-1], train[:, -1]\n",
        "\tX = X.reshape(X.shape[0], 1, X.shape[1])\n",
        "\tmodel = Sequential()\n",
        "\tmodel.add(LSTM(neurons, batch_input_shape=(batch_size, X.shape[1], X.shape[2]), stateful=True))\n",
        "\tmodel.add(Dense(1))\n",
        "\tmodel.compile(loss='mean_squared_error', optimizer='adam')\n",
        "\tfor i in range(nb_epoch):\n",
        "\t\tmodel.fit(X, y, epochs=1, batch_size=batch_size, shuffle=False)\n",
        "\t\tmodel.reset_states()\n",
        "\treturn model"
      ]
    },
    {
      "cell_type": "code",
      "execution_count": null,
      "metadata": {
        "id": "bnGkksjxu8hg"
      },
      "outputs": [],
      "source": [
        "model = fit_lstm(train_scaled, 1, 1500, 1)"
      ]
    },
    {
      "cell_type": "code",
      "execution_count": null,
      "metadata": {
        "id": "D-3u2X95K8P0"
      },
      "outputs": [],
      "source": []
    },
    {
      "cell_type": "code",
      "execution_count": null,
      "metadata": {
        "id": "YSt3LyLWvHQE"
      },
      "outputs": [],
      "source": [
        "train_reshaped = train_scaled[:, 0].reshape(len(train_scaled), 1, 1)"
      ]
    },
    {
      "cell_type": "code",
      "execution_count": null,
      "metadata": {
        "colab": {
          "base_uri": "https://localhost:8080/"
        },
        "id": "NzMkmg23vLJK",
        "outputId": "fd7d10b6-ed8c-4bef-e7a1-9fd78b6519e8"
      },
      "outputs": [],
      "source": [
        "model.predict(train_reshaped, batch_size=1)"
      ]
    },
    {
      "cell_type": "code",
      "execution_count": null,
      "metadata": {
        "colab": {
          "base_uri": "https://localhost:8080/"
        },
        "id": "1hu9tMg6aEln",
        "outputId": "131369a5-2b7f-493a-fc28-fba39135eb33"
      },
      "outputs": [],
      "source": [
        "test_scaled"
      ]
    },
    {
      "cell_type": "code",
      "execution_count": null,
      "metadata": {
        "id": "Fs0n6fuZvNID"
      },
      "outputs": [],
      "source": [
        "predictions = list() "
      ]
    },
    {
      "cell_type": "code",
      "execution_count": null,
      "metadata": {
        "colab": {
          "base_uri": "https://localhost:8080/"
        },
        "id": "8udgjTI3vU8y",
        "outputId": "66b3d920-055a-41af-a300-f75c600664b7"
      },
      "outputs": [],
      "source": [
        "for i in range(len(test_scaled)):\n",
        "  X, y = test_scaled[i, 0:-1], test_scaled[i, -1] \n",
        "  print(i)"
      ]
    },
    {
      "cell_type": "code",
      "execution_count": null,
      "metadata": {
        "id": "G36PT14Sxr5D"
      },
      "outputs": [],
      "source": [
        "test_point = test_scaled[1, 0:-1]\n",
        "test_y = test_scaled[1, -1]"
      ]
    },
    {
      "cell_type": "code",
      "execution_count": null,
      "metadata": {
        "id": "cUZ02ILax-gv"
      },
      "outputs": [],
      "source": [
        "tp = test_point.reshape(1, 1, len(test_point))"
      ]
    },
    {
      "cell_type": "code",
      "execution_count": null,
      "metadata": {
        "colab": {
          "base_uri": "https://localhost:8080/"
        },
        "id": "wrMPRomIxw0L",
        "outputId": "2f10416c-c088-404e-9f89-f3d9a74601d4"
      },
      "outputs": [],
      "source": [
        "test_point, tp"
      ]
    },
    {
      "cell_type": "code",
      "execution_count": null,
      "metadata": {
        "id": "a9dAD4CVx3dQ"
      },
      "outputs": [],
      "source": [
        "pred_point = model.predict(tp, batch_size=1)"
      ]
    },
    {
      "cell_type": "code",
      "execution_count": null,
      "metadata": {
        "colab": {
          "base_uri": "https://localhost:8080/"
        },
        "id": "8wDMqWDDJujN",
        "outputId": "16928acc-8ed5-40d9-bb9a-e41ef26899f6"
      },
      "outputs": [],
      "source": [
        "pred_point, test_y"
      ]
    },
    {
      "cell_type": "code",
      "execution_count": null,
      "metadata": {
        "colab": {
          "base_uri": "https://localhost:8080/"
        },
        "id": "YvTMO_4OJuzX",
        "outputId": "e7de8fd7-c921-4e96-82c6-b472430f2f89"
      },
      "outputs": [],
      "source": [
        "y_h = invert_scale(scaler, test_point, pred_point)"
      ]
    },
    {
      "cell_type": "code",
      "execution_count": null,
      "metadata": {
        "colab": {
          "base_uri": "https://localhost:8080/"
        },
        "id": "lpFOX7WRJu2B",
        "outputId": "88e1bb08-3765-4030-a739-c70ca6e92cc8"
      },
      "outputs": [],
      "source": [
        "y_h"
      ]
    },
    {
      "cell_type": "code",
      "execution_count": null,
      "metadata": {
        "id": "qx93zlVbJu42"
      },
      "outputs": [],
      "source": []
    }
  ],
  "metadata": {
    "colab": {
      "authorship_tag": "ABX9TyP5DbZyyFOtxS4UlvuHHXFX",
      "collapsed_sections": [],
      "include_colab_link": true,
      "name": "keras_LSTM.ipynb",
      "provenance": []
    },
    "kernelspec": {
      "display_name": "Python 3.10.6 ('algo-euler-conda')",
      "language": "python",
      "name": "python3"
    },
    "language_info": {
      "codemirror_mode": {
        "name": "ipython",
        "version": 3
      },
      "file_extension": ".py",
      "mimetype": "text/x-python",
      "name": "python",
      "nbconvert_exporter": "python",
      "pygments_lexer": "ipython3",
      "version": "3.10.6"
    },
    "vscode": {
      "interpreter": {
        "hash": "0b88bcc65c7ffe67118f9d990b2e06d59595753bc42a88d4deb475c1ea61db92"
      }
    }
  },
  "nbformat": 4,
  "nbformat_minor": 0
}
