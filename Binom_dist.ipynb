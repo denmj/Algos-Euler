{
  "cells": [
    {
      "cell_type": "markdown",
      "metadata": {
        "colab_type": "text",
        "id": "view-in-github"
      },
      "source": [
        "<a href=\"https://colab.research.google.com/github/denmj/Algos-Euler/blob/master/Binom_dist.ipynb\" target=\"_parent\"><img src=\"https://colab.research.google.com/assets/colab-badge.svg\" alt=\"Open In Colab\"/></a>"
      ]
    },
    {
      "cell_type": "code",
      "execution_count": 19,
      "metadata": {
        "id": "PquCO7_abXgH"
      },
      "outputs": [],
      "source": [
        "import math\n",
        "import numpy as np\n",
        "from matplotlib import pyplot as pp"
      ]
    },
    {
      "cell_type": "code",
      "execution_count": 3,
      "metadata": {
        "colab": {
          "base_uri": "https://localhost:8080/"
        },
        "id": "9UVPF_cNbvkg",
        "outputId": "9f69ca57-ea02-4aa2-dbb0-d1d2f36f82dc"
      },
      "outputs": [
        {
          "data": {
            "text/plain": [
              "120"
            ]
          },
          "execution_count": 3,
          "metadata": {
            "tags": []
          },
          "output_type": "execute_result"
        }
      ],
      "source": [
        "math.factorial(5)"
      ]
    },
    {
      "cell_type": "code",
      "execution_count": 5,
      "metadata": {
        "colab": {
          "base_uri": "https://localhost:8080/"
        },
        "id": "5MpoPWV-cdps",
        "outputId": "1ee04a8a-0467-4684-f53d-283b85143cd7"
      },
      "outputs": [
        {
          "data": {
            "text/plain": [
              "4.0"
            ]
          },
          "execution_count": 5,
          "metadata": {
            "tags": []
          },
          "output_type": "execute_result"
        }
      ],
      "source": [
        "math.pow(2,2)"
      ]
    },
    {
      "cell_type": "code",
      "execution_count": 40,
      "metadata": {
        "id": "AYRWum9_bq4J"
      },
      "outputs": [],
      "source": [
        "def binom_func(n, x, theta):\n",
        "  # Returns probability Px for coin where coin H/T prob = 0.5\n",
        "  return (math.factorial(n) / (math.factorial(x)*math.factorial(n-x))) * (math.pow(theta, x) * math.pow((1-theta), n-x))"
      ]
    },
    {
      "cell_type": "code",
      "execution_count": 41,
      "metadata": {
        "colab": {
          "base_uri": "https://localhost:8080/"
        },
        "id": "XFmeQXLXcyvb",
        "outputId": "66b2ebf6-4ac2-4bbe-d57a-6ec536a7f2fa"
      },
      "outputs": [
        {
          "data": {
            "text/plain": [
              "1.9073486328125e-05"
            ]
          },
          "execution_count": 41,
          "metadata": {
            "tags": []
          },
          "output_type": "execute_result"
        }
      ],
      "source": [
        "binom_func(20, 1, 0.5)"
      ]
    },
    {
      "cell_type": "code",
      "execution_count": 42,
      "metadata": {
        "id": "TGU_96bSePul"
      },
      "outputs": [],
      "source": [
        "px =  [binom_func(20, x, 0.5) for x in range(20)]\n",
        "px_2 = [binom_func(20, x, 0.2) for x in range(20)]\n",
        "x = [x+1 for x in range(20)]"
      ]
    },
    {
      "cell_type": "code",
      "execution_count": 44,
      "metadata": {
        "colab": {
          "base_uri": "https://localhost:8080/",
          "height": 282
        },
        "id": "NswiW-7mfDMN",
        "outputId": "7c017f3f-0e29-4855-8560-4ffcef906d44"
      },
      "outputs": [
        {
          "data": {
            "text/plain": [
              "<matplotlib.collections.PathCollection at 0x7f6dc435c5d0>"
            ]
          },
          "execution_count": 44,
          "metadata": {
            "tags": []
          },
          "output_type": "execute_result"
        },
        {
          "data": {
            "image/png": "[encoded data removed]",
            "text/plain": [
              "<Figure size 432x288 with 1 Axes>"
            ]
          },
          "metadata": {
            "needs_background": "light",
            "tags": []
          },
          "output_type": "display_data"
        }
      ],
      "source": [
        "pp.scatter(x, px)\n",
        "pp.scatter(x, px_2)"
      ]
    },
    {
      "cell_type": "code",
      "execution_count": 44,
      "metadata": {
        "id": "xtKn2_UJc3q0"
      },
      "outputs": [],
      "source": []
    },
    {
      "cell_type": "code",
      "execution_count": null,
      "metadata": {
        "id": "-6btxFUieKBb"
      },
      "outputs": [],
      "source": []
    }
  ],
  "metadata": {
    "colab": {
      "authorship_tag": "ABX9TyOjfa7YnMp8SJr7QpiaRuBH",
      "collapsed_sections": [],
      "include_colab_link": true,
      "name": "Binom_dist.ipynb",
      "provenance": []
    },
    "kernelspec": {
      "display_name": "Python 3.7.6 ('base')",
      "language": "python",
      "name": "python3"
    },
    "language_info": {
      "name": "python",
      "version": "3.7.6"
    },
    "vscode": {
      "interpreter": {
        "hash": "ad2bdc8ecc057115af97d19610ffacc2b4e99fae6737bb82f5d7fb13d2f2c186"
      }
    }
  },
  "nbformat": 4,
  "nbformat_minor": 0
}
