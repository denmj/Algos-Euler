{
 "cells": [
  {
   "cell_type": "code",
<<<<<<< HEAD
   "execution_count": 4,
=======
   "execution_count": 17,
>>>>>>> a904274c4022602cff3fcf0db175f222289e4c1a
   "metadata": {},
   "outputs": [],
   "source": [
    "import math\n",
    "import numpy as np\n",
<<<<<<< HEAD
=======
    "import scipy as sp\n",
>>>>>>> a904274c4022602cff3fcf0db175f222289e4c1a
    "import matplotlib.pyplot as plt\n",
    "from graphviz import Digraph\n",
    "%matplotlib inline"
   ]
  },
  {
   "cell_type": "code",
<<<<<<< HEAD
   "execution_count": 18,
=======
   "execution_count": 3,
>>>>>>> a904274c4022602cff3fcf0db175f222289e4c1a
   "metadata": {},
   "outputs": [],
   "source": [
    "def simple_func(x):\n",
    "    return 3*x**2 - 4*x + 5"
   ]
  },
  {
   "cell_type": "code",
   "execution_count": 4,
   "metadata": {},
   "outputs": [
    {
     "data": {
      "text/plain": [
       "20.0"
      ]
     },
     "execution_count": 4,
     "metadata": {},
     "output_type": "execute_result"
    }
   ],
   "source": [
    "simple_func(3.0)"
   ]
  },
  {
   "cell_type": "code",
<<<<<<< HEAD
   "execution_count": 7,
=======
   "execution_count": 5,
>>>>>>> a904274c4022602cff3fcf0db175f222289e4c1a
   "metadata": {},
   "outputs": [],
   "source": [
    "xs = np.arange(-5, 5, 0.25)\n",
    "ys = simple_func(xs)"
   ]
  },
  {
   "cell_type": "code",
<<<<<<< HEAD
   "execution_count": 12,
=======
   "execution_count": 6,
>>>>>>> a904274c4022602cff3fcf0db175f222289e4c1a
   "metadata": {},
   "outputs": [
    {
     "data": {
      "text/plain": [
<<<<<<< HEAD
       "[<matplotlib.lines.Line2D at 0x2999974cd00>]"
      ]
     },
     "execution_count": 12,
=======
       "[<matplotlib.lines.Line2D at 0x12cb48014b0>]"
      ]
     },
     "execution_count": 6,
>>>>>>> a904274c4022602cff3fcf0db175f222289e4c1a
     "metadata": {},
     "output_type": "execute_result"
    },
    {
     "data": {
      "image/png": "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",
      "text/plain": [
       "<Figure size 640x480 with 1 Axes>"
      ]
     },
     "metadata": {},
     "output_type": "display_data"
    }
   ],
   "source": [
    "plt.plot(xs, ys)"
   ]
  },
  {
   "cell_type": "code",
<<<<<<< HEAD
   "execution_count": 15,
=======
   "execution_count": 7,
>>>>>>> a904274c4022602cff3fcf0db175f222289e4c1a
   "metadata": {},
   "outputs": [
    {
     "data": {
      "text/plain": [
       "20"
      ]
     },
<<<<<<< HEAD
     "execution_count": 15,
=======
     "execution_count": 7,
>>>>>>> a904274c4022602cff3fcf0db175f222289e4c1a
     "metadata": {},
     "output_type": "execute_result"
    }
   ],
   "source": [
    "simple_func(3)"
   ]
  },
  {
   "cell_type": "code",
<<<<<<< HEAD
   "execution_count": 24,
=======
   "execution_count": 8,
>>>>>>> a904274c4022602cff3fcf0db175f222289e4c1a
   "metadata": {},
   "outputs": [
    {
     "data": {
      "text/plain": [
       "3.0000002482211127e-05"
      ]
     },
<<<<<<< HEAD
     "execution_count": 24,
=======
     "execution_count": 8,
>>>>>>> a904274c4022602cff3fcf0db175f222289e4c1a
     "metadata": {},
     "output_type": "execute_result"
    }
   ],
   "source": [
    "h = 0.00001\n",
    "x = 4/6\n",
    "(simple_func(x+h) - simple_func(x)) / h "
   ]
  },
  {
   "cell_type": "code",
<<<<<<< HEAD
   "execution_count": 26,
=======
   "execution_count": 9,
>>>>>>> a904274c4022602cff3fcf0db175f222289e4c1a
   "metadata": {},
   "outputs": [
    {
     "name": "stdout",
     "output_type": "stream",
     "text": [
      "d1 4.0\n",
      "d2 4.0001\n",
      "slope 0.9999999999976694\n"
     ]
    }
   ],
   "source": [
    "# Next case -> function of 3 vars \n",
    "# d = a*b + c\n",
    "\n",
    "h = 0.0001\n",
    "\n",
    "a = 2.0\n",
    "b = -3.0\n",
    "c = 10.0\n",
    "d1 = a*b + c\n",
    "c += h\n",
    "d2 = a*b + c\n",
    "\n",
    "print(\"d1\", d1)\n",
    "print('d2', d2)\n",
    "\n",
    "print('slope', (d2 - d1) / h)\n",
    "\n"
   ]
  },
  {
   "cell_type": "code",
<<<<<<< HEAD
   "execution_count": 61,
=======
   "execution_count": 10,
>>>>>>> a904274c4022602cff3fcf0db175f222289e4c1a
   "metadata": {},
   "outputs": [],
   "source": [
    "class Value: \n",
    "    def __init__(self, data, _children=(), _op=\"\", _label=\"\"):\n",
    "        self.data = data\n",
    "        self._prev = set(_children)\n",
    "        self._op = _op\n",
    "        self._label = _label\n",
    "\n",
    "    def __repr__(self):\n",
    "        return f\"Value(data={self.data})\"\n",
    "\n",
    "    def __add__(self, other):\n",
    "        out = Value(self.data + other.data, (self, other), '+')\n",
    "        return out\n",
    "\n",
    "    def __sub__(self, other):\n",
    "        out = Value(self.data - other.data, (self, other), '-')\n",
    "        return out\n",
    "\n",
    "    def __mul__(self, other):\n",
    "        out = Value(self.data * other.data, (self, other), '*')\n",
    "        return out\n",
    "    \n",
    "    def __truediv__(self, other):\n",
    "        out = Value(self.data / other.data, (self, other), '/')\n",
    "        return out\n"
   ]
  },
  {
   "cell_type": "code",
   "execution_count": null,
   "metadata": {},
   "outputs": [],
   "source": []
  },
  {
   "cell_type": "code",
   "execution_count": null,
   "metadata": {},
   "outputs": [],
   "source": [
    "\n"
   ]
  },
  {
   "cell_type": "code",
<<<<<<< HEAD
   "execution_count": 62,
=======
   "execution_count": 11,
>>>>>>> a904274c4022602cff3fcf0db175f222289e4c1a
   "metadata": {},
   "outputs": [],
   "source": [
    "a = Value(2.0, _label='a')\n",
    "b = Value(-3.0, _label='b')\n",
    "c = Value(10.0, _label='c')"
   ]
  },
  {
   "cell_type": "code",
<<<<<<< HEAD
   "execution_count": 69,
=======
   "execution_count": 12,
>>>>>>> a904274c4022602cff3fcf0db175f222289e4c1a
   "metadata": {},
   "outputs": [],
   "source": [
    "e = a * b; e._label = 'e'\n",
    "d = e + c\n",
    "d._label = 'd'\n",
    "f = Value(-2.0, _label='f')\n",
    "L = d * f; L._label = 'L'"
   ]
  },
  {
   "cell_type": "code",
<<<<<<< HEAD
   "execution_count": 70,
=======
   "execution_count": 13,
>>>>>>> a904274c4022602cff3fcf0db175f222289e4c1a
   "metadata": {},
   "outputs": [
    {
     "name": "stdout",
     "output_type": "stream",
     "text": [
<<<<<<< HEAD
      "Parent ID:  2244459972112\n",
      "Parent ID:  2244460181104\n",
      "Operation ID:  2244460181104+\n",
      "Parent ID:  2244459973360\n",
      "Parent ID:  2244460181248\n",
      "Operation ID:  2244460181248*\n",
      "Parent ID:  2244459972880\n",
      "Parent ID:  2244460172128\n",
      "Parent ID:  2244460176784\n",
      "Operation ID:  2244460176784*\n"
=======
      "Parent ID:  1291519196800\n",
      "Operation ID:  1291519196800+\n",
      "Parent ID:  1291518486336\n",
      "Parent ID:  1291519195984\n",
      "Parent ID:  1291518488448\n",
      "Parent ID:  1291518486432\n",
      "Parent ID:  1291519196128\n",
      "Operation ID:  1291519196128*\n",
      "Parent ID:  1291504865760\n",
      "Operation ID:  1291504865760*\n"
>>>>>>> a904274c4022602cff3fcf0db175f222289e4c1a
     ]
    },
    {
     "data": {
<<<<<<< HEAD
      "image/svg+xml": "<?xml version=\"1.0\" encoding=\"UTF-8\" standalone=\"no\"?>\n<!DOCTYPE svg PUBLIC \"-//W3C//DTD SVG 1.1//EN\"\n \"http://www.w3.org/Graphics/SVG/1.1/DTD/svg11.dtd\">\n<!-- Generated by graphviz version 2.50.0 (0)\n -->\n<!-- Pages: 1 -->\n<svg width=\"820pt\" height=\"128pt\"\n viewBox=\"0.00 0.00 820.00 128.00\" xmlns=\"http://www.w3.org/2000/svg\" xmlns:xlink=\"http://www.w3.org/1999/xlink\">\n<g id=\"graph0\" class=\"graph\" transform=\"scale(1 1) rotate(0) translate(4 124)\">\n<polygon fill=\"white\" stroke=\"transparent\" points=\"-4,4 -4,-124 816,-124 816,4 -4,4\"/>\n<!-- 2244459972112 -->\n<g id=\"node1\" class=\"node\">\n<title>2244459972112</title>\n<polygon fill=\"none\" stroke=\"black\" points=\"234,-83.5 234,-119.5 344,-119.5 344,-83.5 234,-83.5\"/>\n<text text-anchor=\"middle\" x=\"245.5\" y=\"-97.8\" font-family=\"Times New Roman,serif\" font-size=\"14.00\">c</text>\n<polyline fill=\"none\" stroke=\"black\" points=\"257,-83.5 257,-119.5 \"/>\n<text text-anchor=\"middle\" x=\"300.5\" y=\"-97.8\" font-family=\"Times New Roman,serif\" font-size=\"14.00\">data 10.0000</text>\n</g>\n<!-- 2244460181104+ -->\n<g id=\"node3\" class=\"node\">\n<title>2244460181104+</title>\n<ellipse fill=\"none\" stroke=\"black\" cx=\"407\" cy=\"-73.5\" rx=\"27\" ry=\"18\"/>\n<text text-anchor=\"middle\" x=\"407\" y=\"-69.8\" font-family=\"Times New Roman,serif\" font-size=\"14.00\">+</text>\n</g>\n<!-- 2244459972112&#45;&gt;2244460181104+ -->\n<g id=\"edge6\" class=\"edge\">\n<title>2244459972112&#45;&gt;2244460181104+</title>\n<path fill=\"none\" stroke=\"black\" d=\"M344.26,-88.4C353.49,-86.18 362.84,-83.92 371.37,-81.86\"/>\n<polygon fill=\"black\" stroke=\"black\" points=\"372.42,-85.21 381.32,-79.46 370.78,-78.4 372.42,-85.21\"/>\n</g>\n<!-- 2244460181104 -->\n<g id=\"node2\" class=\"node\">\n<title>2244460181104</title>\n<polygon fill=\"none\" stroke=\"black\" points=\"471.5,-55.5 471.5,-91.5 574.5,-91.5 574.5,-55.5 471.5,-55.5\"/>\n<text text-anchor=\"middle\" x=\"483\" y=\"-69.8\" font-family=\"Times New Roman,serif\" font-size=\"14.00\">d</text>\n<polyline fill=\"none\" stroke=\"black\" points=\"494.5,-55.5 494.5,-91.5 \"/>\n<text text-anchor=\"middle\" x=\"534.5\" y=\"-69.8\" font-family=\"Times New Roman,serif\" font-size=\"14.00\">data 4.0000</text>\n</g>\n<!-- 2244460181248* -->\n<g id=\"node6\" class=\"node\">\n<title>2244460181248*</title>\n<ellipse fill=\"none\" stroke=\"black\" cx=\"639\" cy=\"-45.5\" rx=\"27\" ry=\"18\"/>\n<text text-anchor=\"middle\" x=\"639\" y=\"-41.8\" font-family=\"Times New Roman,serif\" font-size=\"14.00\">*</text>\n</g>\n<!-- 2244460181104&#45;&gt;2244460181248* -->\n<g id=\"edge4\" class=\"edge\">\n<title>2244460181104&#45;&gt;2244460181248*</title>\n<path fill=\"none\" stroke=\"black\" d=\"M574.67,-61.06C584.43,-58.66 594.45,-56.2 603.55,-53.96\"/>\n<polygon fill=\"black\" stroke=\"black\" points=\"604.5,-57.33 613.37,-51.55 602.83,-50.54 604.5,-57.33\"/>\n</g>\n<!-- 2244460181104+&#45;&gt;2244460181104 -->\n<g id=\"edge1\" class=\"edge\">\n<title>2244460181104+&#45;&gt;2244460181104</title>\n<path fill=\"none\" stroke=\"black\" d=\"M434.15,-73.5C442.26,-73.5 451.57,-73.5 461.02,-73.5\"/>\n<polygon fill=\"black\" stroke=\"black\" points=\"461.28,-77 471.28,-73.5 461.28,-70 461.28,-77\"/>\n</g>\n<!-- 2244459973360 -->\n<g id=\"node4\" class=\"node\">\n<title>2244459973360</title>\n<polygon fill=\"none\" stroke=\"black\" points=\"2.5,-56.5 2.5,-92.5 105.5,-92.5 105.5,-56.5 2.5,-56.5\"/>\n<text text-anchor=\"middle\" x=\"14\" y=\"-70.8\" font-family=\"Times New Roman,serif\" font-size=\"14.00\">a</text>\n<polyline fill=\"none\" stroke=\"black\" points=\"25.5,-56.5 25.5,-92.5 \"/>\n<text text-anchor=\"middle\" x=\"65.5\" y=\"-70.8\" font-family=\"Times New Roman,serif\" font-size=\"14.00\">data 2.0000</text>\n</g>\n<!-- 2244460176784* -->\n<g id=\"node10\" class=\"node\">\n<title>2244460176784*</title>\n<ellipse fill=\"none\" stroke=\"black\" cx=\"171\" cy=\"-46.5\" rx=\"27\" ry=\"18\"/>\n<text text-anchor=\"middle\" x=\"171\" y=\"-42.8\" font-family=\"Times New Roman,serif\" font-size=\"14.00\">*</text>\n</g>\n<!-- 2244459973360&#45;&gt;2244460176784* -->\n<g id=\"edge9\" class=\"edge\">\n<title>2244459973360&#45;&gt;2244460176784*</title>\n<path fill=\"none\" stroke=\"black\" d=\"M105.78,-62.14C115.85,-59.68 126.2,-57.16 135.58,-54.88\"/>\n<polygon fill=\"black\" stroke=\"black\" points=\"136.41,-58.28 145.3,-52.51 134.76,-51.48 136.41,-58.28\"/>\n</g>\n<!-- 2244460181248 -->\n<g id=\"node5\" class=\"node\">\n<title>2244460181248</title>\n<polygon fill=\"none\" stroke=\"black\" points=\"702,-27.5 702,-63.5 812,-63.5 812,-27.5 702,-27.5\"/>\n<text text-anchor=\"middle\" x=\"714.5\" y=\"-41.8\" font-family=\"Times New Roman,serif\" font-size=\"14.00\">L</text>\n<polyline fill=\"none\" stroke=\"black\" points=\"727,-27.5 727,-63.5 \"/>\n<text text-anchor=\"middle\" x=\"769.5\" y=\"-41.8\" font-family=\"Times New Roman,serif\" font-size=\"14.00\">data &#45;8.0000</text>\n</g>\n<!-- 2244460181248*&#45;&gt;2244460181248 -->\n<g id=\"edge2\" class=\"edge\">\n<title>2244460181248*&#45;&gt;2244460181248</title>\n<path fill=\"none\" stroke=\"black\" d=\"M666.03,-45.5C673.7,-45.5 682.45,-45.5 691.42,-45.5\"/>\n<polygon fill=\"black\" stroke=\"black\" points=\"691.58,-49 701.58,-45.5 691.58,-42 691.58,-49\"/>\n</g>\n<!-- 2244459972880 -->\n<g id=\"node7\" class=\"node\">\n<title>2244459972880</title>\n<polygon fill=\"none\" stroke=\"black\" points=\"0,-1.5 0,-37.5 108,-37.5 108,-1.5 0,-1.5\"/>\n<text text-anchor=\"middle\" x=\"11.5\" y=\"-15.8\" font-family=\"Times New Roman,serif\" font-size=\"14.00\">b</text>\n<polyline fill=\"none\" stroke=\"black\" points=\"23,-1.5 23,-37.5 \"/>\n<text text-anchor=\"middle\" x=\"65.5\" y=\"-15.8\" font-family=\"Times New Roman,serif\" font-size=\"14.00\">data &#45;3.0000</text>\n</g>\n<!-- 2244459972880&#45;&gt;2244460176784* -->\n<g id=\"edge8\" class=\"edge\">\n<title>2244459972880&#45;&gt;2244460176784*</title>\n<path fill=\"none\" stroke=\"black\" d=\"M108.12,-31.97C117.33,-34.13 126.68,-36.33 135.24,-38.34\"/>\n<polygon fill=\"black\" stroke=\"black\" points=\"134.68,-41.8 145.21,-40.68 136.28,-34.99 134.68,-41.8\"/>\n</g>\n<!-- 2244460172128 -->\n<g id=\"node8\" class=\"node\">\n<title>2244460172128</title>\n<polygon fill=\"none\" stroke=\"black\" points=\"470,-0.5 470,-36.5 576,-36.5 576,-0.5 470,-0.5\"/>\n<text text-anchor=\"middle\" x=\"480.5\" y=\"-14.8\" font-family=\"Times New Roman,serif\" font-size=\"14.00\">f</text>\n<polyline fill=\"none\" stroke=\"black\" points=\"491,-0.5 491,-36.5 \"/>\n<text text-anchor=\"middle\" x=\"533.5\" y=\"-14.8\" font-family=\"Times New Roman,serif\" font-size=\"14.00\">data &#45;2.0000</text>\n</g>\n<!-- 2244460172128&#45;&gt;2244460181248* -->\n<g id=\"edge7\" class=\"edge\">\n<title>2244460172128&#45;&gt;2244460181248*</title>\n<path fill=\"none\" stroke=\"black\" d=\"M576.33,-30.89C585.48,-33.06 594.8,-35.27 603.33,-37.29\"/>\n<polygon fill=\"black\" stroke=\"black\" points=\"602.73,-40.74 613.27,-39.64 604.34,-33.93 602.73,-40.74\"/>\n</g>\n<!-- 2244460176784 -->\n<g id=\"node9\" class=\"node\">\n<title>2244460176784</title>\n<polygon fill=\"none\" stroke=\"black\" points=\"235,-28.5 235,-64.5 343,-64.5 343,-28.5 235,-28.5\"/>\n<text text-anchor=\"middle\" x=\"246.5\" y=\"-42.8\" font-family=\"Times New Roman,serif\" font-size=\"14.00\">e</text>\n<polyline fill=\"none\" stroke=\"black\" points=\"258,-28.5 258,-64.5 \"/>\n<text text-anchor=\"middle\" x=\"300.5\" y=\"-42.8\" font-family=\"Times New Roman,serif\" font-size=\"14.00\">data &#45;6.0000</text>\n</g>\n<!-- 2244460176784&#45;&gt;2244460181104+ -->\n<g id=\"edge5\" class=\"edge\">\n<title>2244460176784&#45;&gt;2244460181104+</title>\n<path fill=\"none\" stroke=\"black\" d=\"M343.25,-58.89C352.75,-61.11 362.43,-63.36 371.24,-65.41\"/>\n<polygon fill=\"black\" stroke=\"black\" points=\"370.6,-68.85 381.14,-67.71 372.19,-62.04 370.6,-68.85\"/>\n</g>\n<!-- 2244460176784*&#45;&gt;2244460176784 -->\n<g id=\"edge3\" class=\"edge\">\n<title>2244460176784*&#45;&gt;2244460176784</title>\n<path fill=\"none\" stroke=\"black\" d=\"M198.03,-46.5C206.08,-46.5 215.32,-46.5 224.74,-46.5\"/>\n<polygon fill=\"black\" stroke=\"black\" points=\"224.99,-50 234.99,-46.5 224.99,-43 224.99,-50\"/>\n</g>\n</g>\n</svg>\n",
      "text/plain": [
       "<graphviz.graphs.Digraph at 0x20a9440d3c0>"
      ]
     },
     "execution_count": 70,
=======
      "image/svg+xml": "<?xml version=\"1.0\" encoding=\"UTF-8\" standalone=\"no\"?>\n<!DOCTYPE svg PUBLIC \"-//W3C//DTD SVG 1.1//EN\"\n \"http://www.w3.org/Graphics/SVG/1.1/DTD/svg11.dtd\">\n<!-- Generated by graphviz version 2.50.0 (0)\n -->\n<!-- Pages: 1 -->\n<svg width=\"820pt\" height=\"154pt\"\n viewBox=\"0.00 0.00 820.00 154.00\" xmlns=\"http://www.w3.org/2000/svg\" xmlns:xlink=\"http://www.w3.org/1999/xlink\">\n<g id=\"graph0\" class=\"graph\" transform=\"scale(1 1) rotate(0) translate(4 150)\">\n<polygon fill=\"white\" stroke=\"transparent\" points=\"-4,4 -4,-150 816,-150 816,4 -4,4\"/>\n<!-- 1291519196800 -->\n<g id=\"node1\" class=\"node\">\n<title>1291519196800</title>\n<polygon fill=\"none\" stroke=\"black\" points=\"471.5,-54.5 471.5,-90.5 574.5,-90.5 574.5,-54.5 471.5,-54.5\"/>\n<text text-anchor=\"middle\" x=\"483\" y=\"-68.8\" font-family=\"Times New Roman,serif\" font-size=\"14.00\">d</text>\n<polyline fill=\"none\" stroke=\"black\" points=\"494.5,-54.5 494.5,-90.5 \"/>\n<text text-anchor=\"middle\" x=\"534.5\" y=\"-68.8\" font-family=\"Times New Roman,serif\" font-size=\"14.00\">data 4.0000</text>\n</g>\n<!-- 1291504865760* -->\n<g id=\"node10\" class=\"node\">\n<title>1291504865760*</title>\n<ellipse fill=\"none\" stroke=\"black\" cx=\"639\" cy=\"-99.5\" rx=\"27\" ry=\"18\"/>\n<text text-anchor=\"middle\" x=\"639\" y=\"-95.8\" font-family=\"Times New Roman,serif\" font-size=\"14.00\">*</text>\n</g>\n<!-- 1291519196800&#45;&gt;1291504865760* -->\n<g id=\"edge8\" class=\"edge\">\n<title>1291519196800&#45;&gt;1291504865760*</title>\n<path fill=\"none\" stroke=\"black\" d=\"M574.67,-84.5C584.43,-86.81 594.45,-89.18 603.55,-91.34\"/>\n<polygon fill=\"black\" stroke=\"black\" points=\"602.83,-94.77 613.37,-93.67 604.45,-87.96 602.83,-94.77\"/>\n</g>\n<!-- 1291519196800+ -->\n<g id=\"node2\" class=\"node\">\n<title>1291519196800+</title>\n<ellipse fill=\"none\" stroke=\"black\" cx=\"407\" cy=\"-72.5\" rx=\"27\" ry=\"18\"/>\n<text text-anchor=\"middle\" x=\"407\" y=\"-68.8\" font-family=\"Times New Roman,serif\" font-size=\"14.00\">+</text>\n</g>\n<!-- 1291519196800+&#45;&gt;1291519196800 -->\n<g id=\"edge1\" class=\"edge\">\n<title>1291519196800+&#45;&gt;1291519196800</title>\n<path fill=\"none\" stroke=\"black\" d=\"M434.15,-72.5C442.26,-72.5 451.57,-72.5 461.02,-72.5\"/>\n<polygon fill=\"black\" stroke=\"black\" points=\"461.28,-76 471.28,-72.5 461.28,-69 461.28,-76\"/>\n</g>\n<!-- 1291518486336 -->\n<g id=\"node3\" class=\"node\">\n<title>1291518486336</title>\n<polygon fill=\"none\" stroke=\"black\" points=\"234,-82.5 234,-118.5 344,-118.5 344,-82.5 234,-82.5\"/>\n<text text-anchor=\"middle\" x=\"245.5\" y=\"-96.8\" font-family=\"Times New Roman,serif\" font-size=\"14.00\">c</text>\n<polyline fill=\"none\" stroke=\"black\" points=\"257,-82.5 257,-118.5 \"/>\n<text text-anchor=\"middle\" x=\"300.5\" y=\"-96.8\" font-family=\"Times New Roman,serif\" font-size=\"14.00\">data 10.0000</text>\n</g>\n<!-- 1291518486336&#45;&gt;1291519196800+ -->\n<g id=\"edge7\" class=\"edge\">\n<title>1291518486336&#45;&gt;1291519196800+</title>\n<path fill=\"none\" stroke=\"black\" d=\"M344.26,-87.4C353.49,-85.18 362.84,-82.92 371.37,-80.86\"/>\n<polygon fill=\"black\" stroke=\"black\" points=\"372.42,-84.21 381.32,-78.46 370.78,-77.4 372.42,-84.21\"/>\n</g>\n<!-- 1291519195984 -->\n<g id=\"node4\" class=\"node\">\n<title>1291519195984</title>\n<polygon fill=\"none\" stroke=\"black\" points=\"470,-109.5 470,-145.5 576,-145.5 576,-109.5 470,-109.5\"/>\n<text text-anchor=\"middle\" x=\"480.5\" y=\"-123.8\" font-family=\"Times New Roman,serif\" font-size=\"14.00\">f</text>\n<polyline fill=\"none\" stroke=\"black\" points=\"491,-109.5 491,-145.5 \"/>\n<text text-anchor=\"middle\" x=\"533.5\" y=\"-123.8\" font-family=\"Times New Roman,serif\" font-size=\"14.00\">data &#45;2.0000</text>\n</g>\n<!-- 1291519195984&#45;&gt;1291504865760* -->\n<g id=\"edge5\" class=\"edge\">\n<title>1291519195984&#45;&gt;1291504865760*</title>\n<path fill=\"none\" stroke=\"black\" d=\"M576.33,-114.65C585.48,-112.4 594.8,-110.11 603.33,-108.02\"/>\n<polygon fill=\"black\" stroke=\"black\" points=\"604.39,-111.36 613.27,-105.57 602.72,-104.56 604.39,-111.36\"/>\n</g>\n<!-- 1291518488448 -->\n<g id=\"node5\" class=\"node\">\n<title>1291518488448</title>\n<polygon fill=\"none\" stroke=\"black\" points=\"2.5,-55.5 2.5,-91.5 105.5,-91.5 105.5,-55.5 2.5,-55.5\"/>\n<text text-anchor=\"middle\" x=\"14\" y=\"-69.8\" font-family=\"Times New Roman,serif\" font-size=\"14.00\">a</text>\n<polyline fill=\"none\" stroke=\"black\" points=\"25.5,-55.5 25.5,-91.5 \"/>\n<text text-anchor=\"middle\" x=\"65.5\" y=\"-69.8\" font-family=\"Times New Roman,serif\" font-size=\"14.00\">data 2.0000</text>\n</g>\n<!-- 1291519196128* -->\n<g id=\"node8\" class=\"node\">\n<title>1291519196128*</title>\n<ellipse fill=\"none\" stroke=\"black\" cx=\"171\" cy=\"-45.5\" rx=\"27\" ry=\"18\"/>\n<text text-anchor=\"middle\" x=\"171\" y=\"-41.8\" font-family=\"Times New Roman,serif\" font-size=\"14.00\">*</text>\n</g>\n<!-- 1291518488448&#45;&gt;1291519196128* -->\n<g id=\"edge4\" class=\"edge\">\n<title>1291518488448&#45;&gt;1291519196128*</title>\n<path fill=\"none\" stroke=\"black\" d=\"M105.78,-61.14C115.85,-58.68 126.2,-56.16 135.58,-53.88\"/>\n<polygon fill=\"black\" stroke=\"black\" points=\"136.41,-57.28 145.3,-51.51 134.76,-50.48 136.41,-57.28\"/>\n</g>\n<!-- 1291518486432 -->\n<g id=\"node6\" class=\"node\">\n<title>1291518486432</title>\n<polygon fill=\"none\" stroke=\"black\" points=\"0,-0.5 0,-36.5 108,-36.5 108,-0.5 0,-0.5\"/>\n<text text-anchor=\"middle\" x=\"11.5\" y=\"-14.8\" font-family=\"Times New Roman,serif\" font-size=\"14.00\">b</text>\n<polyline fill=\"none\" stroke=\"black\" points=\"23,-0.5 23,-36.5 \"/>\n<text text-anchor=\"middle\" x=\"65.5\" y=\"-14.8\" font-family=\"Times New Roman,serif\" font-size=\"14.00\">data &#45;3.0000</text>\n</g>\n<!-- 1291518486432&#45;&gt;1291519196128* -->\n<g id=\"edge9\" class=\"edge\">\n<title>1291518486432&#45;&gt;1291519196128*</title>\n<path fill=\"none\" stroke=\"black\" d=\"M108.12,-30.97C117.33,-33.13 126.68,-35.33 135.24,-37.34\"/>\n<polygon fill=\"black\" stroke=\"black\" points=\"134.68,-40.8 145.21,-39.68 136.28,-33.99 134.68,-40.8\"/>\n</g>\n<!-- 1291519196128 -->\n<g id=\"node7\" class=\"node\">\n<title>1291519196128</title>\n<polygon fill=\"none\" stroke=\"black\" points=\"235,-27.5 235,-63.5 343,-63.5 343,-27.5 235,-27.5\"/>\n<text text-anchor=\"middle\" x=\"246.5\" y=\"-41.8\" font-family=\"Times New Roman,serif\" font-size=\"14.00\">e</text>\n<polyline fill=\"none\" stroke=\"black\" points=\"258,-27.5 258,-63.5 \"/>\n<text text-anchor=\"middle\" x=\"300.5\" y=\"-41.8\" font-family=\"Times New Roman,serif\" font-size=\"14.00\">data &#45;6.0000</text>\n</g>\n<!-- 1291519196128&#45;&gt;1291519196800+ -->\n<g id=\"edge6\" class=\"edge\">\n<title>1291519196128&#45;&gt;1291519196800+</title>\n<path fill=\"none\" stroke=\"black\" d=\"M343.25,-57.89C352.75,-60.11 362.43,-62.36 371.24,-64.41\"/>\n<polygon fill=\"black\" stroke=\"black\" points=\"370.6,-67.85 381.14,-66.71 372.19,-61.04 370.6,-67.85\"/>\n</g>\n<!-- 1291519196128*&#45;&gt;1291519196128 -->\n<g id=\"edge2\" class=\"edge\">\n<title>1291519196128*&#45;&gt;1291519196128</title>\n<path fill=\"none\" stroke=\"black\" d=\"M198.03,-45.5C206.08,-45.5 215.32,-45.5 224.74,-45.5\"/>\n<polygon fill=\"black\" stroke=\"black\" points=\"224.99,-49 234.99,-45.5 224.99,-42 224.99,-49\"/>\n</g>\n<!-- 1291504865760 -->\n<g id=\"node9\" class=\"node\">\n<title>1291504865760</title>\n<polygon fill=\"none\" stroke=\"black\" points=\"702,-81.5 702,-117.5 812,-117.5 812,-81.5 702,-81.5\"/>\n<text text-anchor=\"middle\" x=\"714.5\" y=\"-95.8\" font-family=\"Times New Roman,serif\" font-size=\"14.00\">L</text>\n<polyline fill=\"none\" stroke=\"black\" points=\"727,-81.5 727,-117.5 \"/>\n<text text-anchor=\"middle\" x=\"769.5\" y=\"-95.8\" font-family=\"Times New Roman,serif\" font-size=\"14.00\">data &#45;8.0000</text>\n</g>\n<!-- 1291504865760*&#45;&gt;1291504865760 -->\n<g id=\"edge3\" class=\"edge\">\n<title>1291504865760*&#45;&gt;1291504865760</title>\n<path fill=\"none\" stroke=\"black\" d=\"M666.03,-99.5C673.7,-99.5 682.45,-99.5 691.42,-99.5\"/>\n<polygon fill=\"black\" stroke=\"black\" points=\"691.58,-103 701.58,-99.5 691.58,-96 691.58,-103\"/>\n</g>\n</g>\n</svg>\n",
      "text/plain": [
       "<graphviz.graphs.Digraph at 0x12cb48019f0>"
      ]
     },
     "execution_count": 13,
>>>>>>> a904274c4022602cff3fcf0db175f222289e4c1a
     "metadata": {},
     "output_type": "execute_result"
    }
   ],
   "source": [
    "def trace(root):\n",
    "    nodes, edges = set(), set()\n",
    "    def build(v):\n",
    "        if v not in nodes:\n",
    "            nodes.add(v)\n",
    "            # print(\"Parent: \", v)\n",
    "            for child in v._prev:\n",
    "                # print(\"Child of \",  v , \"is \", child)\n",
    "                edges.add((child, v))\n",
    "                build(child)\n",
    "    build(root)\n",
    "    return nodes, edges\n",
    "# dot\n",
    "n, e =  trace(L)\n",
    "\n",
    "\n",
    "dot = Digraph(format='svg', graph_attr={'rankdir': 'LR'})\n",
    "\n",
    "for n_ in n: \n",
    "    uid = str(id(n_))\n",
    "    print(\"Parent ID: \", uid)\n",
    "    dot.node(name=uid, label=\"{ %s | data %.4f}\" % (n_._label, n_.data,) , shape='record')\n",
    "\n",
    "    if n_._op:\n",
    "        print(\"Operation ID: \", uid+n_._op)\n",
    "        dot.node(name=uid+ n_._op, label= n_._op)\n",
    "\n",
    "        dot.edge(uid + n_._op, uid)\n",
    "for e1, e2 in e:\n",
    "    dot.edge(str(id(e1)), str(id(e2)) + e2._op)\n",
    "\n",
    "dot"
   ]
  },
  {
   "cell_type": "code",
<<<<<<< HEAD
   "execution_count": 58,
=======
   "execution_count": 14,
>>>>>>> a904274c4022602cff3fcf0db175f222289e4c1a
   "metadata": {},
   "outputs": [
    {
     "name": "stdout",
     "output_type": "stream",
     "text": [
<<<<<<< HEAD
      "2244460178752\n"
=======
      "1291518748672\n"
>>>>>>> a904274c4022602cff3fcf0db175f222289e4c1a
     ]
    }
   ],
   "source": [
    "v = Value(1.0)\n",
    "c1 = v\n",
    "\n",
    "print(str(id(v)))"
   ]
  },
  {
   "cell_type": "code",
<<<<<<< HEAD
   "execution_count": 59,
=======
   "execution_count": 15,
>>>>>>> a904274c4022602cff3fcf0db175f222289e4c1a
   "metadata": {},
   "outputs": [
    {
     "name": "stdout",
     "output_type": "stream",
     "text": [
<<<<<<< HEAD
      "2244460178752\n"
=======
      "1291518748672\n"
>>>>>>> a904274c4022602cff3fcf0db175f222289e4c1a
     ]
    }
   ],
   "source": [
    "print(str(id(c1)))"
   ]
  },
  {
   "cell_type": "code",
<<<<<<< HEAD
   "execution_count": 35,
=======
   "execution_count": 16,
>>>>>>> a904274c4022602cff3fcf0db175f222289e4c1a
   "metadata": {},
   "outputs": [
    {
     "data": {
      "text/plain": [
<<<<<<< HEAD
       "{(Value(data=-3.0), Value(data=-6.0)),\n",
       " (Value(data=-6.0), Value(data=4.0)),\n",
       " (Value(data=10.0), Value(data=4.0)),\n",
       " (Value(data=2.0), Value(data=-6.0))}"
      ]
     },
     "execution_count": 35,
=======
       "{(Value(data=-2.0), Value(data=-8.0)),\n",
       " (Value(data=-3.0), Value(data=-6.0)),\n",
       " (Value(data=-6.0), Value(data=4.0)),\n",
       " (Value(data=10.0), Value(data=4.0)),\n",
       " (Value(data=2.0), Value(data=-6.0)),\n",
       " (Value(data=4.0), Value(data=-8.0))}"
      ]
     },
     "execution_count": 16,
>>>>>>> a904274c4022602cff3fcf0db175f222289e4c1a
     "metadata": {},
     "output_type": "execute_result"
    }
   ],
   "source": [
    "e"
   ]
  },
  {
   "cell_type": "code",
<<<<<<< HEAD
=======
   "execution_count": 64,
   "metadata": {},
   "outputs": [
    {
     "name": "stdout",
     "output_type": "stream",
     "text": [
      "Combination of k in N (Order doesnt matter / dont replace):  10.0 \n",
      " Combination of k in N (Order doest / replace):  15.0 \n",
      " Permutation of k in N (Oreder matter / dont replace):  20.0 \n",
      " Permutation of k in N (Order matter / Replace):  25 \n",
      "\n"
     ]
    }
   ],
   "source": [
    "# Combination and Permutation\n",
    "N = 5\n",
    "k = 2\n",
    "\n",
    "print(\"Combination of k in N (Order doesnt matter / dont replace): \", sp.special.comb(N, k), \"\\n\",\n",
    "        \"Combination of k in N (Order doest / replace): \", sp.special.comb(N, k, repetition=True), \"\\n\",\n",
    "        \"Permutation of k in N (Oreder matter / dont replace): \", sp.special.perm(N, k), \"\\n\",\n",
    "        \"Permutation of k in N (Order matter / Replace): \",np.power(N, k), \"\\n\" ) "
   ]
  },
  {
   "cell_type": "code",
   "execution_count": 30,
   "metadata": {},
   "outputs": [
    {
     "name": "stdout",
     "output_type": "stream",
     "text": [
      "10.0\n"
     ]
    }
   ],
   "source": [
    "# Comb wiht order doesbt matter\n",
    "print(sp.special.binom(5, 2))"
   ]
  },
  {
   "cell_type": "code",
   "execution_count": 37,
   "metadata": {},
   "outputs": [
    {
     "name": "stdout",
     "output_type": "stream",
     "text": [
      "0.0014405762304921968\n"
     ]
    }
   ],
   "source": [
    "# Full house probability (Order doesnt matter and combination)\n",
    "\n",
    "p_of_fullhous = sp.special.comb(13, 1) * sp.special.comb(4, 3) * sp.special.comb(12, 1) * sp.special.comb(4, 2) / sp.special.comb(52, 5)\n",
    "print(p_of_fullhous)"
   ]
  },
  {
   "cell_type": "code",
   "execution_count": 71,
   "metadata": {},
   "outputs": [],
   "source": [
    "from scipy.stats import norm, bernoulli"
   ]
  },
  {
   "cell_type": "code",
   "execution_count": 79,
   "metadata": {},
   "outputs": [
    {
     "name": "stdout",
     "output_type": "stream",
     "text": [
      "Mean:  0.3 Var:  0.21 Skew:  0.8728715609439694 Kurt:  -1.2380952380952381\n"
     ]
    }
   ],
   "source": [
    "p = 0.3\n",
    "mean, var, skew, kurt = bernoulli.stats(p, moments='mvsk')\n",
    "print(\"Mean: \", mean, \"Var: \", var, \"Skew: \", skew, \"Kurt: \", kurt)"
   ]
  },
  {
   "cell_type": "code",
   "execution_count": 80,
   "metadata": {},
   "outputs": [
    {
     "data": {
      "image/png": "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",
      "text/plain": [
       "<Figure size 640x480 with 1 Axes>"
      ]
     },
     "metadata": {},
     "output_type": "display_data"
    }
   ],
   "source": [
    "\n",
    "fig, ax = plt.subplots(1, 1)\n",
    "x = np.arange(bernoulli.ppf(0.01, p),\n",
    "              bernoulli.ppf(0.99, p))\n",
    "ax.plot(x, bernoulli.pmf(x, p), 'bo', ms=8, label='bernoulli pmf')\n",
    "ax.vlines(x, 0, bernoulli.pmf(x, p), colors='b', lw=5, alpha=0.5)\n",
    "plt.show()"
   ]
  },
  {
   "cell_type": "code",
   "execution_count": 91,
   "metadata": {},
   "outputs": [
    {
     "data": {
      "text/plain": [
       "array([0.])"
      ]
     },
     "execution_count": 91,
     "metadata": {},
     "output_type": "execute_result"
    }
   ],
   "source": [
    "x"
   ]
  },
  {
   "cell_type": "code",
   "execution_count": 81,
   "metadata": {},
   "outputs": [],
   "source": [
    "r = bernoulli.rvs(p, size=10)"
   ]
  },
  {
   "cell_type": "code",
   "execution_count": 89,
   "metadata": {},
   "outputs": [],
   "source": [
    "prob = bernoulli.cdf(x, p)"
   ]
  },
  {
   "cell_type": "code",
   "execution_count": 90,
   "metadata": {},
   "outputs": [
    {
     "data": {
      "text/plain": [
       "array([0.7])"
      ]
     },
     "execution_count": 90,
     "metadata": {},
     "output_type": "execute_result"
    }
   ],
   "source": [
    "prob"
   ]
  },
  {
   "cell_type": "code",
>>>>>>> a904274c4022602cff3fcf0db175f222289e4c1a
   "execution_count": null,
   "metadata": {},
   "outputs": [],
   "source": []
  }
 ],
 "metadata": {
  "kernelspec": {
<<<<<<< HEAD
   "display_name": "Python 3.10.6 ('ds-pg-conda310')",
=======
   "display_name": "Python 3.10.6 ('algo-euler-conda')",
>>>>>>> a904274c4022602cff3fcf0db175f222289e4c1a
   "language": "python",
   "name": "python3"
  },
  "language_info": {
   "codemirror_mode": {
    "name": "ipython",
    "version": 3
   },
   "file_extension": ".py",
   "mimetype": "text/x-python",
   "name": "python",
   "nbconvert_exporter": "python",
   "pygments_lexer": "ipython3",
   "version": "3.10.6"
  },
  "orig_nbformat": 4,
  "vscode": {
   "interpreter": {
<<<<<<< HEAD
    "hash": "df88cf5b272e12875e0ec588b5fd7b4265535075e53865300649c189cd7473b2"
=======
    "hash": "0b88bcc65c7ffe67118f9d990b2e06d59595753bc42a88d4deb475c1ea61db92"
>>>>>>> a904274c4022602cff3fcf0db175f222289e4c1a
   }
  }
 },
 "nbformat": 4,
 "nbformat_minor": 2
}
